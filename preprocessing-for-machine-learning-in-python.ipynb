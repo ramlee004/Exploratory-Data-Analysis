{
 "cells": [
  {
   "cell_type": "code",
   "execution_count": 12,
   "metadata": {},
   "outputs": [],
   "source": [
    "import pandas as pd\n",
    "import numpy as np"
   ]
  },
  {
   "cell_type": "code",
   "execution_count": 13,
   "metadata": {},
   "outputs": [
    {
     "data": {
      "text/html": [
       "<div>\n",
       "<style scoped>\n",
       "    .dataframe tbody tr th:only-of-type {\n",
       "        vertical-align: middle;\n",
       "    }\n",
       "\n",
       "    .dataframe tbody tr th {\n",
       "        vertical-align: top;\n",
       "    }\n",
       "\n",
       "    .dataframe thead th {\n",
       "        text-align: right;\n",
       "    }\n",
       "</style>\n",
       "<table border=\"1\" class=\"dataframe\">\n",
       "  <thead>\n",
       "    <tr style=\"text-align: right;\">\n",
       "      <th></th>\n",
       "      <th>Opportunity_Id</th>\n",
       "      <th>Content_Id</th>\n",
       "      <th>Vol_Requests</th>\n",
       "      <th>Title</th>\n",
       "      <th>Hits</th>\n",
       "      <th>Summary</th>\n",
       "      <th>Is_Priority</th>\n",
       "      <th>Category_Id</th>\n",
       "      <th>Category_Desc</th>\n",
       "      <th>Org_Title</th>\n",
       "      <th>Org_Content_Id</th>\n",
       "      <th>Locality</th>\n",
       "      <th>Zip_Code</th>\n",
       "      <th>URL</th>\n",
       "      <th>Recurrence_Type</th>\n",
       "      <th>Created_Date</th>\n",
       "      <th>Last_Modified_Date</th>\n",
       "      <th>Start_Date</th>\n",
       "      <th>End_Date</th>\n",
       "    </tr>\n",
       "  </thead>\n",
       "  <tbody>\n",
       "    <tr>\n",
       "      <th>0</th>\n",
       "      <td>4996</td>\n",
       "      <td>37004</td>\n",
       "      <td>50</td>\n",
       "      <td>Volunteers Needed For Rise Up &amp; Stay Put! Home...</td>\n",
       "      <td>737</td>\n",
       "      <td>Building on successful events last summer and ...</td>\n",
       "      <td>False</td>\n",
       "      <td>NaN</td>\n",
       "      <td>NaN</td>\n",
       "      <td>Center For NYC Neighborhoods</td>\n",
       "      <td>4426</td>\n",
       "      <td>NaN</td>\n",
       "      <td>NaN</td>\n",
       "      <td>https:/https://opportunities/4996</td>\n",
       "      <td>onetime</td>\n",
       "      <td>01/13/2011</td>\n",
       "      <td>06/23/2011</td>\n",
       "      <td>07/30/2011</td>\n",
       "      <td>07/30/2011</td>\n",
       "    </tr>\n",
       "    <tr>\n",
       "      <th>1</th>\n",
       "      <td>5008</td>\n",
       "      <td>37036</td>\n",
       "      <td>2</td>\n",
       "      <td>Web designer</td>\n",
       "      <td>22</td>\n",
       "      <td>Build a website for an Afghan business</td>\n",
       "      <td>False</td>\n",
       "      <td>1.0</td>\n",
       "      <td>Strengthening Communities</td>\n",
       "      <td>Bpeace</td>\n",
       "      <td>37026</td>\n",
       "      <td>5 22nd St New York  NY 10010 (40.7405315227297...</td>\n",
       "      <td>10010.0</td>\n",
       "      <td>https:/https://opportunities/5008</td>\n",
       "      <td>onetime</td>\n",
       "      <td>01/14/2011</td>\n",
       "      <td>01/25/2011</td>\n",
       "      <td>02/01/2011</td>\n",
       "      <td>02/01/2011</td>\n",
       "    </tr>\n",
       "    <tr>\n",
       "      <th>2</th>\n",
       "      <td>5016</td>\n",
       "      <td>37143</td>\n",
       "      <td>20</td>\n",
       "      <td>Urban Adventures - Ice Skating at Lasker Rink</td>\n",
       "      <td>62</td>\n",
       "      <td>Please join us and the students from Mott Hall...</td>\n",
       "      <td>False</td>\n",
       "      <td>1.0</td>\n",
       "      <td>Strengthening Communities</td>\n",
       "      <td>Street Project</td>\n",
       "      <td>3001</td>\n",
       "      <td>NaN</td>\n",
       "      <td>10026.0</td>\n",
       "      <td>https:/https://opportunities/5016</td>\n",
       "      <td>onetime</td>\n",
       "      <td>01/19/2011</td>\n",
       "      <td>01/21/2011</td>\n",
       "      <td>01/29/2011</td>\n",
       "      <td>01/29/2011</td>\n",
       "    </tr>\n",
       "    <tr>\n",
       "      <th>3</th>\n",
       "      <td>5022</td>\n",
       "      <td>37237</td>\n",
       "      <td>500</td>\n",
       "      <td>Fight global hunger and support women farmers ...</td>\n",
       "      <td>14</td>\n",
       "      <td>The Oxfam Action Corps is a group of dedicated...</td>\n",
       "      <td>False</td>\n",
       "      <td>1.0</td>\n",
       "      <td>Strengthening Communities</td>\n",
       "      <td>Oxfam America</td>\n",
       "      <td>2170</td>\n",
       "      <td>NaN</td>\n",
       "      <td>2114.0</td>\n",
       "      <td>https:/https://opportunities/5022</td>\n",
       "      <td>ongoing</td>\n",
       "      <td>01/21/2011</td>\n",
       "      <td>01/25/2011</td>\n",
       "      <td>02/14/2011</td>\n",
       "      <td>03/31/2011</td>\n",
       "    </tr>\n",
       "    <tr>\n",
       "      <th>4</th>\n",
       "      <td>5055</td>\n",
       "      <td>37425</td>\n",
       "      <td>15</td>\n",
       "      <td>Stop 'N' Swap</td>\n",
       "      <td>31</td>\n",
       "      <td>Stop 'N' Swap reduces NYC's waste by finding n...</td>\n",
       "      <td>False</td>\n",
       "      <td>4.0</td>\n",
       "      <td>Environment</td>\n",
       "      <td>Office of Recycling Outreach and Education</td>\n",
       "      <td>36773</td>\n",
       "      <td>NaN</td>\n",
       "      <td>10455.0</td>\n",
       "      <td>https://opportunities/5055</td>\n",
       "      <td>onetime</td>\n",
       "      <td>01/28/2011</td>\n",
       "      <td>02/01/2011</td>\n",
       "      <td>02/05/2011</td>\n",
       "      <td>02/05/2011</td>\n",
       "    </tr>\n",
       "  </tbody>\n",
       "</table>\n",
       "</div>"
      ],
      "text/plain": [
       "   Opportunity_Id  Content_Id  Vol_Requests  \\\n",
       "0            4996       37004            50   \n",
       "1            5008       37036             2   \n",
       "2            5016       37143            20   \n",
       "3            5022       37237           500   \n",
       "4            5055       37425            15   \n",
       "\n",
       "                                               Title  Hits  \\\n",
       "0  Volunteers Needed For Rise Up & Stay Put! Home...   737   \n",
       "1                                       Web designer    22   \n",
       "2      Urban Adventures - Ice Skating at Lasker Rink    62   \n",
       "3  Fight global hunger and support women farmers ...    14   \n",
       "4                                      Stop 'N' Swap    31   \n",
       "\n",
       "                                             Summary  Is_Priority  \\\n",
       "0  Building on successful events last summer and ...        False   \n",
       "1             Build a website for an Afghan business        False   \n",
       "2  Please join us and the students from Mott Hall...        False   \n",
       "3  The Oxfam Action Corps is a group of dedicated...        False   \n",
       "4  Stop 'N' Swap reduces NYC's waste by finding n...        False   \n",
       "\n",
       "   Category_Id              Category_Desc  \\\n",
       "0          NaN                        NaN   \n",
       "1          1.0  Strengthening Communities   \n",
       "2          1.0  Strengthening Communities   \n",
       "3          1.0  Strengthening Communities   \n",
       "4          4.0                Environment   \n",
       "\n",
       "                                    Org_Title  Org_Content_Id  \\\n",
       "0                Center For NYC Neighborhoods            4426   \n",
       "1                                      Bpeace           37026   \n",
       "2                              Street Project            3001   \n",
       "3                               Oxfam America            2170   \n",
       "4  Office of Recycling Outreach and Education           36773   \n",
       "\n",
       "                                            Locality  Zip_Code  \\\n",
       "0                                                NaN       NaN   \n",
       "1  5 22nd St New York  NY 10010 (40.7405315227297...   10010.0   \n",
       "2                                                NaN   10026.0   \n",
       "3                                                NaN    2114.0   \n",
       "4                                                NaN   10455.0   \n",
       "\n",
       "                                 URL Recurrence_Type Created_Date  \\\n",
       "0  https:/https://opportunities/4996         onetime   01/13/2011   \n",
       "1  https:/https://opportunities/5008         onetime   01/14/2011   \n",
       "2  https:/https://opportunities/5016         onetime   01/19/2011   \n",
       "3  https:/https://opportunities/5022         ongoing   01/21/2011   \n",
       "4         https://opportunities/5055         onetime   01/28/2011   \n",
       "\n",
       "  Last_Modified_Date  Start_Date    End_Date  \n",
       "0         06/23/2011  07/30/2011  07/30/2011  \n",
       "1         01/25/2011  02/01/2011  02/01/2011  \n",
       "2         01/21/2011  01/29/2011  01/29/2011  \n",
       "3         01/25/2011  02/14/2011  03/31/2011  \n",
       "4         02/01/2011  02/05/2011  02/05/2011  "
      ]
     },
     "execution_count": 13,
     "metadata": {},
     "output_type": "execute_result"
    }
   ],
   "source": [
    "volunteer = pd.read_csv('nyc-services-volunteer-opportunities-csv_csv.csv')\n",
    "volunteer.head()"
   ]
  },
  {
   "cell_type": "code",
   "execution_count": 14,
   "metadata": {},
   "outputs": [
    {
     "data": {
      "text/plain": [
       "(664, 19)"
      ]
     },
     "execution_count": 14,
     "metadata": {},
     "output_type": "execute_result"
    }
   ],
   "source": [
    "volunteer.shape"
   ]
  },
  {
   "cell_type": "markdown",
   "metadata": {},
   "source": [
    "### Missing data - rows"
   ]
  },
  {
   "cell_type": "markdown",
   "metadata": {},
   "source": [
    "Check how many values are missing in the category_desc column using isnull() and sum().\n",
    "Subset the volunteer dataset by indexing by where category_desc is notnull(), and store in a new variable called volunteer_subset.\n",
    "Take a look at the .shape attribute of the new dataset, to verify it worked correctly."
   ]
  },
  {
   "cell_type": "code",
   "execution_count": 15,
   "metadata": {},
   "outputs": [
    {
     "data": {
      "text/plain": [
       "Opportunity_Id          0\n",
       "Content_Id              0\n",
       "Vol_Requests            0\n",
       "Title                   0\n",
       "Hits                    0\n",
       "Summary                 0\n",
       "Is_Priority             0\n",
       "Category_Id            48\n",
       "Category_Desc          48\n",
       "Org_Title               0\n",
       "Org_Content_Id          0\n",
       "Locality               70\n",
       "Zip_Code                6\n",
       "URL                     0\n",
       "Recurrence_Type         0\n",
       "Created_Date          203\n",
       "Last_Modified_Date      0\n",
       "Start_Date              0\n",
       "End_Date                0\n",
       "dtype: int64"
      ]
     },
     "execution_count": 15,
     "metadata": {},
     "output_type": "execute_result"
    }
   ],
   "source": [
    "volunteer.isnull().sum()"
   ]
  },
  {
   "cell_type": "code",
   "execution_count": 16,
   "metadata": {},
   "outputs": [
    {
     "data": {
      "text/html": [
       "<div>\n",
       "<style scoped>\n",
       "    .dataframe tbody tr th:only-of-type {\n",
       "        vertical-align: middle;\n",
       "    }\n",
       "\n",
       "    .dataframe tbody tr th {\n",
       "        vertical-align: top;\n",
       "    }\n",
       "\n",
       "    .dataframe thead th {\n",
       "        text-align: right;\n",
       "    }\n",
       "</style>\n",
       "<table border=\"1\" class=\"dataframe\">\n",
       "  <thead>\n",
       "    <tr style=\"text-align: right;\">\n",
       "      <th></th>\n",
       "      <th>Opportunity_Id</th>\n",
       "      <th>Content_Id</th>\n",
       "      <th>Vol_Requests</th>\n",
       "      <th>Title</th>\n",
       "      <th>Hits</th>\n",
       "      <th>Summary</th>\n",
       "      <th>Is_Priority</th>\n",
       "      <th>Category_Id</th>\n",
       "      <th>Category_Desc</th>\n",
       "      <th>Org_Title</th>\n",
       "      <th>Org_Content_Id</th>\n",
       "      <th>Locality</th>\n",
       "      <th>Zip_Code</th>\n",
       "      <th>URL</th>\n",
       "      <th>Recurrence_Type</th>\n",
       "      <th>Created_Date</th>\n",
       "      <th>Last_Modified_Date</th>\n",
       "      <th>Start_Date</th>\n",
       "      <th>End_Date</th>\n",
       "    </tr>\n",
       "  </thead>\n",
       "  <tbody>\n",
       "    <tr>\n",
       "      <th>1</th>\n",
       "      <td>5008</td>\n",
       "      <td>37036</td>\n",
       "      <td>2</td>\n",
       "      <td>Web designer</td>\n",
       "      <td>22</td>\n",
       "      <td>Build a website for an Afghan business</td>\n",
       "      <td>False</td>\n",
       "      <td>1.0</td>\n",
       "      <td>Strengthening Communities</td>\n",
       "      <td>Bpeace</td>\n",
       "      <td>37026</td>\n",
       "      <td>5 22nd St New York  NY 10010 (40.7405315227297...</td>\n",
       "      <td>10010.0</td>\n",
       "      <td>https:/https://opportunities/5008</td>\n",
       "      <td>onetime</td>\n",
       "      <td>01/14/2011</td>\n",
       "      <td>01/25/2011</td>\n",
       "      <td>02/01/2011</td>\n",
       "      <td>02/01/2011</td>\n",
       "    </tr>\n",
       "  </tbody>\n",
       "</table>\n",
       "</div>"
      ],
      "text/plain": [
       "   Opportunity_Id  Content_Id  Vol_Requests         Title  Hits  \\\n",
       "1            5008       37036             2  Web designer    22   \n",
       "\n",
       "                                  Summary  Is_Priority  Category_Id  \\\n",
       "1  Build a website for an Afghan business        False          1.0   \n",
       "\n",
       "               Category_Desc Org_Title  Org_Content_Id  \\\n",
       "1  Strengthening Communities    Bpeace           37026   \n",
       "\n",
       "                                            Locality  Zip_Code  \\\n",
       "1  5 22nd St New York  NY 10010 (40.7405315227297...   10010.0   \n",
       "\n",
       "                                 URL Recurrence_Type Created_Date  \\\n",
       "1  https:/https://opportunities/5008         onetime   01/14/2011   \n",
       "\n",
       "  Last_Modified_Date  Start_Date    End_Date  \n",
       "1         01/25/2011  02/01/2011  02/01/2011  "
      ]
     },
     "execution_count": 16,
     "metadata": {},
     "output_type": "execute_result"
    }
   ],
   "source": [
    "volunteer_subset = volunteer[volunteer['Category_Desc'].notnull()]\n",
    "volunteer_subset.head(1)"
   ]
  },
  {
   "cell_type": "code",
   "execution_count": 17,
   "metadata": {},
   "outputs": [
    {
     "data": {
      "text/plain": [
       "(616, 19)"
      ]
     },
     "execution_count": 17,
     "metadata": {},
     "output_type": "execute_result"
    }
   ],
   "source": [
    "volunteer_subset.shape"
   ]
  },
  {
   "cell_type": "code",
   "execution_count": 18,
   "metadata": {},
   "outputs": [
    {
     "data": {
      "text/plain": [
       "Opportunity_Id          int64\n",
       "Content_Id              int64\n",
       "Vol_Requests            int64\n",
       "Title                  object\n",
       "Hits                    int64\n",
       "Summary                object\n",
       "Is_Priority              bool\n",
       "Category_Id           float64\n",
       "Category_Desc          object\n",
       "Org_Title              object\n",
       "Org_Content_Id          int64\n",
       "Locality               object\n",
       "Zip_Code              float64\n",
       "URL                    object\n",
       "Recurrence_Type        object\n",
       "Created_Date           object\n",
       "Last_Modified_Date     object\n",
       "Start_Date             object\n",
       "End_Date               object\n",
       "dtype: object"
      ]
     },
     "execution_count": 18,
     "metadata": {},
     "output_type": "execute_result"
    }
   ],
   "source": [
    "volunteer.dtypes"
   ]
  },
  {
   "cell_type": "markdown",
   "metadata": {},
   "source": [
    "### Converting a column type"
   ]
  },
  {
   "cell_type": "markdown",
   "metadata": {},
   "source": [
    "    - If you take a look at the volunteer dataset types, you'll see that the column hits is type object. \n",
    "    - But, if you actually look at the column, you'll see that it consists of integers. \n",
    "    - Let's convert that column to type int."
   ]
  },
  {
   "cell_type": "code",
   "execution_count": 19,
   "metadata": {},
   "outputs": [
    {
     "data": {
      "text/plain": [
       "Opportunity_Id          int64\n",
       "Content_Id              int64\n",
       "Vol_Requests            int64\n",
       "Title                  object\n",
       "Hits                    int32\n",
       "Summary                object\n",
       "Is_Priority              bool\n",
       "Category_Id           float64\n",
       "Category_Desc          object\n",
       "Org_Title              object\n",
       "Org_Content_Id          int64\n",
       "Locality               object\n",
       "Zip_Code              float64\n",
       "URL                    object\n",
       "Recurrence_Type        object\n",
       "Created_Date           object\n",
       "Last_Modified_Date     object\n",
       "Start_Date             object\n",
       "End_Date               object\n",
       "dtype: object"
      ]
     },
     "execution_count": 19,
     "metadata": {},
     "output_type": "execute_result"
    }
   ],
   "source": [
    "volunteer['Hits'] = volunteer['Hits'].astype('int')\n",
    "volunteer.dtypes"
   ]
  },
  {
   "cell_type": "markdown",
   "metadata": {},
   "source": [
    "### Class imbalance"
   ]
  },
  {
   "cell_type": "markdown",
   "metadata": {},
   "source": [
    "##### Stratified sampling\n",
    "    - We know that the distribution of variables in the category_desc column in the volunteer dataset is uneven.\n",
    "    - Stratified sampling is a way to achieve this."
   ]
  },
  {
   "cell_type": "code",
   "execution_count": 74,
   "metadata": {},
   "outputs": [
    {
     "data": {
      "text/plain": [
       "Strengthening Communities    307\n",
       "Helping Neighbors in Need    119\n",
       "Education                     91\n",
       "Health                        52\n",
       "Environment                   32\n",
       "Emergency Preparedness        15\n",
       "Name: Category_Desc, dtype: int64"
      ]
     },
     "execution_count": 74,
     "metadata": {},
     "output_type": "execute_result"
    }
   ],
   "source": [
    "volunteer['Category_Desc'].value_counts()"
   ]
  },
  {
   "cell_type": "code",
   "execution_count": 75,
   "metadata": {},
   "outputs": [
    {
     "ename": "SyntaxError",
     "evalue": "invalid syntax (<ipython-input-75-c32207a48f31>, line 5)",
     "output_type": "error",
     "traceback": [
      "\u001b[1;36m  File \u001b[1;32m\"<ipython-input-75-c32207a48f31>\"\u001b[1;36m, line \u001b[1;32m5\u001b[0m\n\u001b[1;33m    volunteer_y = volunteer['Category_Desc']\u001b[0m\n\u001b[1;37m              ^\u001b[0m\n\u001b[1;31mSyntaxError\u001b[0m\u001b[1;31m:\u001b[0m invalid syntax\n"
     ]
    }
   ],
   "source": [
    "# Create a data with all columns except category_desc\n",
    "volunteer_X = volunteer.drop('Category_Desc', axis=1\n",
    "\n",
    "# Create a category_desc labels dataset\n",
    "volunteer_y = volunteer['Category_Desc']\n",
    "\n",
    "# Use stratified sampling to split up the dataset according to the volunteer_y dataset\n",
    "from sklearn.model_selection import train_test_split\n",
    "X_train, X_test, y_train, y_test = train_test_split(volunteer_X, volunteer_y, stratify = volunteer_y)\n",
    "\n",
    "# Print out the category_desc counts on the training y labels\n",
    "print(y_train['Category_Desc'].value_counts())"
   ]
  },
  {
   "cell_type": "markdown",
   "metadata": {},
   "source": [
    "### Standardization"
   ]
  },
  {
   "cell_type": "code",
   "execution_count": 22,
   "metadata": {},
   "outputs": [],
   "source": [
    "wine = pd.read_csv('wine (1).data.csv',header=0,encoding = 'unicode_escape')"
   ]
  },
  {
   "cell_type": "code",
   "execution_count": 23,
   "metadata": {},
   "outputs": [
    {
     "data": {
      "text/html": [
       "<div>\n",
       "<style scoped>\n",
       "    .dataframe tbody tr th:only-of-type {\n",
       "        vertical-align: middle;\n",
       "    }\n",
       "\n",
       "    .dataframe tbody tr th {\n",
       "        vertical-align: top;\n",
       "    }\n",
       "\n",
       "    .dataframe thead th {\n",
       "        text-align: right;\n",
       "    }\n",
       "</style>\n",
       "<table border=\"1\" class=\"dataframe\">\n",
       "  <thead>\n",
       "    <tr style=\"text-align: right;\">\n",
       "      <th></th>\n",
       "      <th>class</th>\n",
       "      <th>Alcohol</th>\n",
       "      <th>Malic acid</th>\n",
       "      <th>Ash</th>\n",
       "      <th>Alcalinity of ash</th>\n",
       "      <th>Magnesium</th>\n",
       "      <th>Total phenols</th>\n",
       "      <th>Flavanoids</th>\n",
       "      <th>Nonflavanoid phenols</th>\n",
       "      <th>Proanthocyanins</th>\n",
       "      <th>Color intensity</th>\n",
       "      <th>Hue</th>\n",
       "      <th>OD280/OD315 of diluted wines</th>\n",
       "      <th>Proline</th>\n",
       "    </tr>\n",
       "  </thead>\n",
       "  <tbody>\n",
       "    <tr>\n",
       "      <th>0</th>\n",
       "      <td>1</td>\n",
       "      <td>14.23</td>\n",
       "      <td>2.16</td>\n",
       "      <td>2.43</td>\n",
       "      <td>15.6</td>\n",
       "      <td>127</td>\n",
       "      <td>2.80</td>\n",
       "      <td>3.06</td>\n",
       "      <td>0.28</td>\n",
       "      <td>2.29</td>\n",
       "      <td>5.64</td>\n",
       "      <td>1.04</td>\n",
       "      <td>3.92</td>\n",
       "      <td>1065</td>\n",
       "    </tr>\n",
       "    <tr>\n",
       "      <th>1</th>\n",
       "      <td>1</td>\n",
       "      <td>13.20</td>\n",
       "      <td>1.48</td>\n",
       "      <td>2.14</td>\n",
       "      <td>11.2</td>\n",
       "      <td>100</td>\n",
       "      <td>2.65</td>\n",
       "      <td>2.76</td>\n",
       "      <td>0.26</td>\n",
       "      <td>1.28</td>\n",
       "      <td>4.38</td>\n",
       "      <td>1.05</td>\n",
       "      <td>3.40</td>\n",
       "      <td>1050</td>\n",
       "    </tr>\n",
       "    <tr>\n",
       "      <th>2</th>\n",
       "      <td>1</td>\n",
       "      <td>13.16</td>\n",
       "      <td>1.73</td>\n",
       "      <td>2.67</td>\n",
       "      <td>18.6</td>\n",
       "      <td>101</td>\n",
       "      <td>2.80</td>\n",
       "      <td>3.24</td>\n",
       "      <td>0.30</td>\n",
       "      <td>2.81</td>\n",
       "      <td>5.68</td>\n",
       "      <td>1.03</td>\n",
       "      <td>3.17</td>\n",
       "      <td>1185</td>\n",
       "    </tr>\n",
       "    <tr>\n",
       "      <th>3</th>\n",
       "      <td>1</td>\n",
       "      <td>14.37</td>\n",
       "      <td>1.73</td>\n",
       "      <td>2.50</td>\n",
       "      <td>16.8</td>\n",
       "      <td>113</td>\n",
       "      <td>3.85</td>\n",
       "      <td>3.49</td>\n",
       "      <td>0.24</td>\n",
       "      <td>2.18</td>\n",
       "      <td>7.80</td>\n",
       "      <td>0.86</td>\n",
       "      <td>3.45</td>\n",
       "      <td>1480</td>\n",
       "    </tr>\n",
       "    <tr>\n",
       "      <th>4</th>\n",
       "      <td>1</td>\n",
       "      <td>13.24</td>\n",
       "      <td>1.87</td>\n",
       "      <td>2.87</td>\n",
       "      <td>21.0</td>\n",
       "      <td>118</td>\n",
       "      <td>2.80</td>\n",
       "      <td>2.69</td>\n",
       "      <td>0.39</td>\n",
       "      <td>1.82</td>\n",
       "      <td>4.32</td>\n",
       "      <td>1.04</td>\n",
       "      <td>2.93</td>\n",
       "      <td>735</td>\n",
       "    </tr>\n",
       "  </tbody>\n",
       "</table>\n",
       "</div>"
      ],
      "text/plain": [
       "   class  Alcohol  Malic acid  Ash   Alcalinity of ash   Magnesium   \\\n",
       "0      1    14.23        2.16  2.43                15.6         127   \n",
       "1      1    13.20        1.48  2.14                11.2         100   \n",
       "2      1    13.16        1.73  2.67                18.6         101   \n",
       "3      1    14.37        1.73  2.50                16.8         113   \n",
       "4      1    13.24        1.87  2.87                21.0         118   \n",
       "\n",
       "   Total phenols   Flavanoids   Nonflavanoid phenols    Proanthocyanins   \\\n",
       "0            2.80         3.06                   0.28               2.29   \n",
       "1            2.65         2.76                   0.26               1.28   \n",
       "2            2.80         3.24                   0.30               2.81   \n",
       "3            3.85         3.49                   0.24               2.18   \n",
       "4            2.80         2.69                   0.39               1.82   \n",
       "\n",
       "   Color intensity   Hue   OD280/OD315 of diluted wines   Proline   \n",
       "0              5.64  1.04                           3.92      1065  \n",
       "1              4.38  1.05                           3.40      1050  \n",
       "2              5.68  1.03                           3.17      1185  \n",
       "3              7.80  0.86                           3.45      1480  \n",
       "4              4.32  1.04                           2.93       735  "
      ]
     },
     "execution_count": 23,
     "metadata": {},
     "output_type": "execute_result"
    }
   ],
   "source": [
    "wine.head()"
   ]
  },
  {
   "cell_type": "code",
   "execution_count": 24,
   "metadata": {},
   "outputs": [
    {
     "data": {
      "text/plain": [
       "class                              int64\n",
       "Alcohol                          float64\n",
       "Malic acid                       float64\n",
       "Ash                              float64\n",
       "Alcalinity of ash                float64\n",
       "Magnesium                          int64\n",
       "Total phenols                    float64\n",
       "Flavanoids                       float64\n",
       "Nonflavanoid phenols             float64\n",
       " Proanthocyanins                 float64\n",
       "Color intensity                  float64\n",
       "Hue                              float64\n",
       "OD280/OD315 of diluted wines     float64\n",
       "Proline                            int64\n",
       "dtype: object"
      ]
     },
     "execution_count": 24,
     "metadata": {},
     "output_type": "execute_result"
    }
   ],
   "source": [
    "wine.dtypes"
   ]
  },
  {
   "cell_type": "code",
   "execution_count": 25,
   "metadata": {},
   "outputs": [
    {
     "data": {
      "text/plain": [
       "class                                0.600679\n",
       "Alcohol                              0.659062\n",
       "Malic acid                           1.304404\n",
       "Ash                                  0.075265\n",
       "Alcalinity of ash                   11.152686\n",
       "Magnesium                          203.989335\n",
       "Total phenols                        0.391690\n",
       "Flavanoids                           0.997719\n",
       "Nonflavanoid phenols                 0.015489\n",
       " Proanthocyanins                     0.327595\n",
       "Color intensity                      5.374449\n",
       "Hue                                  0.052245\n",
       "OD280/OD315 of diluted wines         0.504086\n",
       "Proline                          99166.717355\n",
       "dtype: float64"
      ]
     },
     "execution_count": 25,
     "metadata": {},
     "output_type": "execute_result"
    }
   ],
   "source": [
    "wine.var()"
   ]
  },
  {
   "cell_type": "code",
   "execution_count": 26,
   "metadata": {},
   "outputs": [
    {
     "data": {
      "text/plain": [
       "class                             0\n",
       "Alcohol                           0\n",
       "Malic acid                       10\n",
       "Ash                               0\n",
       "Alcalinity of ash                 0\n",
       "Magnesium                         0\n",
       "Total phenols                     0\n",
       "Flavanoids                        0\n",
       "Nonflavanoid phenols              0\n",
       " Proanthocyanins                  0\n",
       "Color intensity                   0\n",
       "Hue                               0\n",
       "OD280/OD315 of diluted wines      0\n",
       "Proline                           0\n",
       "dtype: int64"
      ]
     },
     "execution_count": 26,
     "metadata": {},
     "output_type": "execute_result"
    }
   ],
   "source": [
    "wine.isnull().sum()"
   ]
  },
  {
   "cell_type": "code",
   "execution_count": 27,
   "metadata": {},
   "outputs": [],
   "source": [
    "wine['Malic acid'] = wine['Malic acid'].fillna(wine['Malic acid'].mean())"
   ]
  },
  {
   "cell_type": "markdown",
   "metadata": {},
   "source": [
    "### Modeling without normalizing"
   ]
  },
  {
   "cell_type": "markdown",
   "metadata": {},
   "source": [
    "    - Let's take a look at what might happen to your model's accuracy if you try to model data without doing some sort of standardization first. \n",
    "    - Here we have a subset of the wine dataset. One of the columns, Proline, has an extremely high variance compared to the other columns. \n",
    "    - This is an example of where a technique like log normalization would come in handy, which you'll learn about in the next section."
   ]
  },
  {
   "cell_type": "markdown",
   "metadata": {},
   "source": [
    "### Knn On non - Scaled data"
   ]
  },
  {
   "cell_type": "code",
   "execution_count": 28,
   "metadata": {},
   "outputs": [],
   "source": [
    "from sklearn.neighbors import KNeighborsClassifier\n",
    "train,test = train_test_split(wine)"
   ]
  },
  {
   "cell_type": "code",
   "execution_count": 29,
   "metadata": {},
   "outputs": [],
   "source": [
    "train_x = train.drop('class',axis =1)\n",
    "train_y = train[['class']]\n",
    "test_x = test.drop('class',axis =1)\n",
    "test_y = test[['class']]"
   ]
  },
  {
   "cell_type": "code",
   "execution_count": 30,
   "metadata": {},
   "outputs": [
    {
     "name": "stderr",
     "output_type": "stream",
     "text": [
      "C:\\Users\\ramle\\Anaconda3\\lib\\site-packages\\ipykernel_launcher.py:2: DataConversionWarning: A column-vector y was passed when a 1d array was expected. Please change the shape of y to (n_samples, ), for example using ravel().\n",
      "  \n"
     ]
    }
   ],
   "source": [
    "model = KNeighborsClassifier()\n",
    "model.fit(train_x,train_y)\n",
    "test_predict = model.predict(test_x)"
   ]
  },
  {
   "cell_type": "code",
   "execution_count": 31,
   "metadata": {},
   "outputs": [
    {
     "name": "stdout",
     "output_type": "stream",
     "text": [
      "0.6222222222222222\n"
     ]
    }
   ],
   "source": [
    "from sklearn.metrics import accuracy_score\n",
    "print(accuracy_score(test_predict,test_y))"
   ]
  },
  {
   "cell_type": "markdown",
   "metadata": {},
   "source": [
    "### Checking the variance"
   ]
  },
  {
   "cell_type": "code",
   "execution_count": 33,
   "metadata": {},
   "outputs": [
    {
     "data": {
      "text/plain": [
       "class                                0.600679\n",
       "Alcohol                              0.659062\n",
       "Malic acid                           1.230708\n",
       "Ash                                  0.075265\n",
       "Alcalinity of ash                   11.152686\n",
       "Magnesium                          203.989335\n",
       "Total phenols                        0.391690\n",
       "Flavanoids                           0.997719\n",
       "Nonflavanoid phenols                 0.015489\n",
       " Proanthocyanins                     0.327595\n",
       "Color intensity                      5.374449\n",
       "Hue                                  0.052245\n",
       "OD280/OD315 of diluted wines         0.504086\n",
       "Proline                          99166.717355\n",
       "dtype: float64"
      ]
     },
     "execution_count": 33,
     "metadata": {},
     "output_type": "execute_result"
    }
   ],
   "source": [
    "wine.var()"
   ]
  },
  {
   "cell_type": "markdown",
   "metadata": {},
   "source": [
    "### Log normalization in Python"
   ]
  },
  {
   "cell_type": "markdown",
   "metadata": {},
   "source": [
    "    - Now that we know that the Proline column in our wine dataset has a large amount of variance, let's log normalize it."
   ]
  },
  {
   "cell_type": "code",
   "execution_count": 34,
   "metadata": {},
   "outputs": [
    {
     "name": "stdout",
     "output_type": "stream",
     "text": [
      "99166.71735542428\n",
      "0.17231366191842018\n"
     ]
    }
   ],
   "source": [
    "# Print out the variance of the Proline column\n",
    "print(wine.iloc[:,13].var())\n",
    "\n",
    "# Apply the log normalization function to the Proline column\n",
    "wine['Proline_log'] = np.log(wine.iloc[:,13])\n",
    "\n",
    "# Check the variance of the Proline column again\n",
    "print(wine['Proline_log'].var())"
   ]
  },
  {
   "cell_type": "code",
   "execution_count": 35,
   "metadata": {},
   "outputs": [
    {
     "data": {
      "text/plain": [
       "class                                0.600679\n",
       "Alcohol                              0.659062\n",
       "Malic acid                           1.230708\n",
       "Ash                                  0.075265\n",
       "Alcalinity of ash                   11.152686\n",
       "Magnesium                          203.989335\n",
       "Total phenols                        0.391690\n",
       "Flavanoids                           0.997719\n",
       "Nonflavanoid phenols                 0.015489\n",
       " Proanthocyanins                     0.327595\n",
       "Color intensity                      5.374449\n",
       "Hue                                  0.052245\n",
       "OD280/OD315 of diluted wines         0.504086\n",
       "Proline                          99166.717355\n",
       "Proline_log                          0.172314\n",
       "dtype: float64"
      ]
     },
     "execution_count": 35,
     "metadata": {},
     "output_type": "execute_result"
    }
   ],
   "source": [
    "wine.var()"
   ]
  },
  {
   "cell_type": "markdown",
   "metadata": {},
   "source": [
    "### Scaling data - investigating columns"
   ]
  },
  {
   "cell_type": "markdown",
   "metadata": {},
   "source": [
    "    - We want to use the Ash, Alcalinity of ash, and Magnesium columns in the wine dataset to train a linear model, but it's possible that these columns are all measured in different ways, which would bias a linear model. \n",
    "    - Using describe() to return descriptive statistics about this dataset, which of the following statements are true about the scale of data in these columns?"
   ]
  },
  {
   "cell_type": "code",
   "execution_count": 36,
   "metadata": {},
   "outputs": [
    {
     "data": {
      "text/plain": [
       "Index(['class', 'Alcohol', 'Malic acid', 'Ash ', 'Alcalinity of ash ',\n",
       "       'Magnesium ', 'Total phenols ', 'Flavanoids ', 'Nonflavanoid phenols ',\n",
       "       ' Proanthocyanins ', 'Color intensity ', 'Hue ',\n",
       "       'OD280/OD315 of diluted wines ', 'Proline ', 'Proline_log'],\n",
       "      dtype='object')"
      ]
     },
     "execution_count": 36,
     "metadata": {},
     "output_type": "execute_result"
    }
   ],
   "source": [
    "wine.columns"
   ]
  },
  {
   "cell_type": "code",
   "execution_count": 37,
   "metadata": {},
   "outputs": [
    {
     "data": {
      "text/html": [
       "<div>\n",
       "<style scoped>\n",
       "    .dataframe tbody tr th:only-of-type {\n",
       "        vertical-align: middle;\n",
       "    }\n",
       "\n",
       "    .dataframe tbody tr th {\n",
       "        vertical-align: top;\n",
       "    }\n",
       "\n",
       "    .dataframe thead th {\n",
       "        text-align: right;\n",
       "    }\n",
       "</style>\n",
       "<table border=\"1\" class=\"dataframe\">\n",
       "  <thead>\n",
       "    <tr style=\"text-align: right;\">\n",
       "      <th></th>\n",
       "      <th>Ash</th>\n",
       "      <th>Alcalinity of ash</th>\n",
       "      <th>Magnesium</th>\n",
       "    </tr>\n",
       "  </thead>\n",
       "  <tbody>\n",
       "    <tr>\n",
       "      <th>count</th>\n",
       "      <td>178.000000</td>\n",
       "      <td>178.000000</td>\n",
       "      <td>178.000000</td>\n",
       "    </tr>\n",
       "    <tr>\n",
       "      <th>mean</th>\n",
       "      <td>2.366517</td>\n",
       "      <td>19.494944</td>\n",
       "      <td>99.741573</td>\n",
       "    </tr>\n",
       "    <tr>\n",
       "      <th>std</th>\n",
       "      <td>0.274344</td>\n",
       "      <td>3.339564</td>\n",
       "      <td>14.282484</td>\n",
       "    </tr>\n",
       "    <tr>\n",
       "      <th>min</th>\n",
       "      <td>1.360000</td>\n",
       "      <td>10.600000</td>\n",
       "      <td>70.000000</td>\n",
       "    </tr>\n",
       "    <tr>\n",
       "      <th>25%</th>\n",
       "      <td>2.210000</td>\n",
       "      <td>17.200000</td>\n",
       "      <td>88.000000</td>\n",
       "    </tr>\n",
       "    <tr>\n",
       "      <th>50%</th>\n",
       "      <td>2.360000</td>\n",
       "      <td>19.500000</td>\n",
       "      <td>98.000000</td>\n",
       "    </tr>\n",
       "    <tr>\n",
       "      <th>75%</th>\n",
       "      <td>2.557500</td>\n",
       "      <td>21.500000</td>\n",
       "      <td>107.000000</td>\n",
       "    </tr>\n",
       "    <tr>\n",
       "      <th>max</th>\n",
       "      <td>3.230000</td>\n",
       "      <td>30.000000</td>\n",
       "      <td>162.000000</td>\n",
       "    </tr>\n",
       "  </tbody>\n",
       "</table>\n",
       "</div>"
      ],
      "text/plain": [
       "             Ash   Alcalinity of ash   Magnesium \n",
       "count  178.000000          178.000000  178.000000\n",
       "mean     2.366517           19.494944   99.741573\n",
       "std      0.274344            3.339564   14.282484\n",
       "min      1.360000           10.600000   70.000000\n",
       "25%      2.210000           17.200000   88.000000\n",
       "50%      2.360000           19.500000   98.000000\n",
       "75%      2.557500           21.500000  107.000000\n",
       "max      3.230000           30.000000  162.000000"
      ]
     },
     "execution_count": 37,
     "metadata": {},
     "output_type": "execute_result"
    }
   ],
   "source": [
    "wine.iloc[:,[3,4,5]].describe()"
   ]
  },
  {
   "cell_type": "markdown",
   "metadata": {},
   "source": [
    "### Scaling data - standardizing columns"
   ]
  },
  {
   "cell_type": "markdown",
   "metadata": {},
   "source": [
    "    - Since we know that the Ash, Alcalinity of ash, and Magnesium columns in the wine dataset are all on different scales, let's standardize them in a way that allows for use in a linear model."
   ]
  },
  {
   "cell_type": "code",
   "execution_count": 38,
   "metadata": {},
   "outputs": [],
   "source": [
    "# Import StandardScaler from scikit-learn\n",
    "from sklearn.preprocessing import StandardScaler\n",
    "\n",
    "# Create the scaler\n",
    "ss = StandardScaler()\n",
    "\n",
    "# Take a subset of the DataFrame you want to scale \n",
    "wine_subset = wine.iloc[:,[3,4,5]]\n",
    "\n",
    "# Apply the scaler to the DataFrame subset\n",
    "wine_subset_scaled = pd.DataFrame(ss.fit_transform(wine_subset),columns=wine_subset.columns)"
   ]
  },
  {
   "cell_type": "markdown",
   "metadata": {},
   "source": [
    "#### Note"
   ]
  },
  {
   "cell_type": "markdown",
   "metadata": {},
   "source": [
    "    - fit_transform during preprocessing will both fit the method to the data as well as transform the data in a single step."
   ]
  },
  {
   "cell_type": "markdown",
   "metadata": {},
   "source": [
    "### Knn on scaled data"
   ]
  },
  {
   "cell_type": "code",
   "execution_count": 39,
   "metadata": {},
   "outputs": [],
   "source": [
    "x = wine.drop('class',axis =1)\n",
    "y = wine[['class']]"
   ]
  },
  {
   "cell_type": "code",
   "execution_count": 40,
   "metadata": {},
   "outputs": [],
   "source": [
    "from sklearn.preprocessing import StandardScaler\n",
    "scaler = StandardScaler()\n",
    "df_scaled = pd.DataFrame(scaler.fit_transform(x),columns=x.columns)"
   ]
  },
  {
   "cell_type": "code",
   "execution_count": 41,
   "metadata": {},
   "outputs": [],
   "source": [
    "df_scaled['class'] = y"
   ]
  },
  {
   "cell_type": "code",
   "execution_count": 42,
   "metadata": {},
   "outputs": [
    {
     "data": {
      "text/html": [
       "<div>\n",
       "<style scoped>\n",
       "    .dataframe tbody tr th:only-of-type {\n",
       "        vertical-align: middle;\n",
       "    }\n",
       "\n",
       "    .dataframe tbody tr th {\n",
       "        vertical-align: top;\n",
       "    }\n",
       "\n",
       "    .dataframe thead th {\n",
       "        text-align: right;\n",
       "    }\n",
       "</style>\n",
       "<table border=\"1\" class=\"dataframe\">\n",
       "  <thead>\n",
       "    <tr style=\"text-align: right;\">\n",
       "      <th></th>\n",
       "      <th>Alcohol</th>\n",
       "      <th>Malic acid</th>\n",
       "      <th>Ash</th>\n",
       "      <th>Alcalinity of ash</th>\n",
       "      <th>Magnesium</th>\n",
       "      <th>Total phenols</th>\n",
       "      <th>Flavanoids</th>\n",
       "      <th>Nonflavanoid phenols</th>\n",
       "      <th>Proanthocyanins</th>\n",
       "      <th>Color intensity</th>\n",
       "      <th>Hue</th>\n",
       "      <th>OD280/OD315 of diluted wines</th>\n",
       "      <th>Proline</th>\n",
       "      <th>Proline_log</th>\n",
       "      <th>class</th>\n",
       "    </tr>\n",
       "  </thead>\n",
       "  <tbody>\n",
       "    <tr>\n",
       "      <th>0</th>\n",
       "      <td>1.518613</td>\n",
       "      <td>-0.182028</td>\n",
       "      <td>0.232053</td>\n",
       "      <td>-1.169593</td>\n",
       "      <td>1.913905</td>\n",
       "      <td>0.808997</td>\n",
       "      <td>1.034819</td>\n",
       "      <td>-0.659563</td>\n",
       "      <td>1.224884</td>\n",
       "      <td>0.251717</td>\n",
       "      <td>0.362177</td>\n",
       "      <td>1.847920</td>\n",
       "      <td>1.013009</td>\n",
       "      <td>1.063991</td>\n",
       "      <td>1</td>\n",
       "    </tr>\n",
       "    <tr>\n",
       "      <th>1</th>\n",
       "      <td>0.246290</td>\n",
       "      <td>-0.796716</td>\n",
       "      <td>-0.827996</td>\n",
       "      <td>-2.490847</td>\n",
       "      <td>0.018145</td>\n",
       "      <td>0.568648</td>\n",
       "      <td>0.733629</td>\n",
       "      <td>-0.820719</td>\n",
       "      <td>-0.544721</td>\n",
       "      <td>-0.293321</td>\n",
       "      <td>0.406051</td>\n",
       "      <td>1.113449</td>\n",
       "      <td>0.965242</td>\n",
       "      <td>1.029723</td>\n",
       "      <td>1</td>\n",
       "    </tr>\n",
       "    <tr>\n",
       "      <th>2</th>\n",
       "      <td>0.196879</td>\n",
       "      <td>-0.570728</td>\n",
       "      <td>1.109334</td>\n",
       "      <td>-0.268738</td>\n",
       "      <td>0.088358</td>\n",
       "      <td>0.808997</td>\n",
       "      <td>1.215533</td>\n",
       "      <td>-0.498407</td>\n",
       "      <td>2.135968</td>\n",
       "      <td>0.269020</td>\n",
       "      <td>0.318304</td>\n",
       "      <td>0.788587</td>\n",
       "      <td>1.395148</td>\n",
       "      <td>1.321922</td>\n",
       "      <td>1</td>\n",
       "    </tr>\n",
       "    <tr>\n",
       "      <th>3</th>\n",
       "      <td>1.691550</td>\n",
       "      <td>-0.570728</td>\n",
       "      <td>0.487926</td>\n",
       "      <td>-0.809251</td>\n",
       "      <td>0.930918</td>\n",
       "      <td>2.491446</td>\n",
       "      <td>1.466525</td>\n",
       "      <td>-0.981875</td>\n",
       "      <td>1.032155</td>\n",
       "      <td>1.186068</td>\n",
       "      <td>-0.427544</td>\n",
       "      <td>1.184071</td>\n",
       "      <td>2.334574</td>\n",
       "      <td>1.858956</td>\n",
       "      <td>1</td>\n",
       "    </tr>\n",
       "    <tr>\n",
       "      <th>4</th>\n",
       "      <td>0.295700</td>\n",
       "      <td>-0.444174</td>\n",
       "      <td>1.840403</td>\n",
       "      <td>0.451946</td>\n",
       "      <td>1.281985</td>\n",
       "      <td>0.808997</td>\n",
       "      <td>0.663351</td>\n",
       "      <td>0.226796</td>\n",
       "      <td>0.401404</td>\n",
       "      <td>-0.319276</td>\n",
       "      <td>0.362177</td>\n",
       "      <td>0.449601</td>\n",
       "      <td>-0.037874</td>\n",
       "      <td>0.168063</td>\n",
       "      <td>1</td>\n",
       "    </tr>\n",
       "  </tbody>\n",
       "</table>\n",
       "</div>"
      ],
      "text/plain": [
       "    Alcohol  Malic acid      Ash   Alcalinity of ash   Magnesium   \\\n",
       "0  1.518613   -0.182028  0.232053           -1.169593    1.913905   \n",
       "1  0.246290   -0.796716 -0.827996           -2.490847    0.018145   \n",
       "2  0.196879   -0.570728  1.109334           -0.268738    0.088358   \n",
       "3  1.691550   -0.570728  0.487926           -0.809251    0.930918   \n",
       "4  0.295700   -0.444174  1.840403            0.451946    1.281985   \n",
       "\n",
       "   Total phenols   Flavanoids   Nonflavanoid phenols    Proanthocyanins   \\\n",
       "0        0.808997     1.034819              -0.659563           1.224884   \n",
       "1        0.568648     0.733629              -0.820719          -0.544721   \n",
       "2        0.808997     1.215533              -0.498407           2.135968   \n",
       "3        2.491446     1.466525              -0.981875           1.032155   \n",
       "4        0.808997     0.663351               0.226796           0.401404   \n",
       "\n",
       "   Color intensity       Hue   OD280/OD315 of diluted wines   Proline   \\\n",
       "0          0.251717  0.362177                       1.847920  1.013009   \n",
       "1         -0.293321  0.406051                       1.113449  0.965242   \n",
       "2          0.269020  0.318304                       0.788587  1.395148   \n",
       "3          1.186068 -0.427544                       1.184071  2.334574   \n",
       "4         -0.319276  0.362177                       0.449601 -0.037874   \n",
       "\n",
       "   Proline_log  class  \n",
       "0     1.063991      1  \n",
       "1     1.029723      1  \n",
       "2     1.321922      1  \n",
       "3     1.858956      1  \n",
       "4     0.168063      1  "
      ]
     },
     "execution_count": 42,
     "metadata": {},
     "output_type": "execute_result"
    }
   ],
   "source": [
    "df_scaled.head()"
   ]
  },
  {
   "cell_type": "code",
   "execution_count": 43,
   "metadata": {},
   "outputs": [],
   "source": [
    "from sklearn.neighbors import KNeighborsClassifier\n",
    "train,test = train_test_split(df_scaled)"
   ]
  },
  {
   "cell_type": "code",
   "execution_count": 44,
   "metadata": {},
   "outputs": [],
   "source": [
    "train_x = train.drop('class',axis =1)\n",
    "train_y = train[['class']]\n",
    "test_x = test.drop('class',axis =1)\n",
    "test_y = test[['class']]"
   ]
  },
  {
   "cell_type": "code",
   "execution_count": 45,
   "metadata": {},
   "outputs": [
    {
     "name": "stderr",
     "output_type": "stream",
     "text": [
      "C:\\Users\\ramle\\Anaconda3\\lib\\site-packages\\ipykernel_launcher.py:2: DataConversionWarning: A column-vector y was passed when a 1d array was expected. Please change the shape of y to (n_samples, ), for example using ravel().\n",
      "  \n"
     ]
    }
   ],
   "source": [
    "model = KNeighborsClassifier()\n",
    "model.fit(train_x,train_y)\n",
    "test_predict = model.predict(test_x)"
   ]
  },
  {
   "cell_type": "code",
   "execution_count": 46,
   "metadata": {},
   "outputs": [
    {
     "name": "stdout",
     "output_type": "stream",
     "text": [
      "0.9777777777777777\n"
     ]
    }
   ],
   "source": [
    "from sklearn.metrics import accuracy_score\n",
    "print(accuracy_score(test_predict,test_y))"
   ]
  },
  {
   "cell_type": "code",
   "execution_count": null,
   "metadata": {},
   "outputs": [],
   "source": []
  },
  {
   "cell_type": "code",
   "execution_count": 47,
   "metadata": {},
   "outputs": [
    {
     "data": {
      "text/html": [
       "<div>\n",
       "<style scoped>\n",
       "    .dataframe tbody tr th:only-of-type {\n",
       "        vertical-align: middle;\n",
       "    }\n",
       "\n",
       "    .dataframe tbody tr th {\n",
       "        vertical-align: top;\n",
       "    }\n",
       "\n",
       "    .dataframe thead th {\n",
       "        text-align: right;\n",
       "    }\n",
       "</style>\n",
       "<table border=\"1\" class=\"dataframe\">\n",
       "  <thead>\n",
       "    <tr style=\"text-align: right;\">\n",
       "      <th></th>\n",
       "      <th>Accessible</th>\n",
       "      <th>Difficulty</th>\n",
       "      <th>Length</th>\n",
       "      <th>Limited_Access</th>\n",
       "      <th>Location</th>\n",
       "      <th>Name</th>\n",
       "      <th>Other_Details</th>\n",
       "      <th>Park_Name</th>\n",
       "      <th>Prop_ID</th>\n",
       "      <th>lat</th>\n",
       "      <th>lon</th>\n",
       "    </tr>\n",
       "  </thead>\n",
       "  <tbody>\n",
       "    <tr>\n",
       "      <th>0</th>\n",
       "      <td>Y</td>\n",
       "      <td>None</td>\n",
       "      <td>0.8 miles</td>\n",
       "      <td>N</td>\n",
       "      <td>Enter behind the Salt Marsh Nature Center, loc...</td>\n",
       "      <td>Salt Marsh Nature Trail</td>\n",
       "      <td>&lt;p&gt;The first half of this mile-long trail foll...</td>\n",
       "      <td>Marine Park</td>\n",
       "      <td>B057</td>\n",
       "      <td>NaN</td>\n",
       "      <td>NaN</td>\n",
       "    </tr>\n",
       "    <tr>\n",
       "      <th>1</th>\n",
       "      <td>N</td>\n",
       "      <td>Easy</td>\n",
       "      <td>1.0 mile</td>\n",
       "      <td>N</td>\n",
       "      <td>Enter Park at Lincoln Road and Ocean Avenue en...</td>\n",
       "      <td>Lullwater</td>\n",
       "      <td>Explore the Lullwater to see how nature thrive...</td>\n",
       "      <td>Prospect Park</td>\n",
       "      <td>B073</td>\n",
       "      <td>NaN</td>\n",
       "      <td>NaN</td>\n",
       "    </tr>\n",
       "    <tr>\n",
       "      <th>2</th>\n",
       "      <td>N</td>\n",
       "      <td>Easy</td>\n",
       "      <td>0.75 miles</td>\n",
       "      <td>N</td>\n",
       "      <td>Enter Park at Lincoln Road and Ocean Avenue en...</td>\n",
       "      <td>Midwood</td>\n",
       "      <td>Step back in time with a walk through Brooklyn...</td>\n",
       "      <td>Prospect Park</td>\n",
       "      <td>B073</td>\n",
       "      <td>NaN</td>\n",
       "      <td>NaN</td>\n",
       "    </tr>\n",
       "    <tr>\n",
       "      <th>3</th>\n",
       "      <td>N</td>\n",
       "      <td>Easy</td>\n",
       "      <td>0.5 miles</td>\n",
       "      <td>N</td>\n",
       "      <td>Enter Park at Lincoln Road and Ocean Avenue en...</td>\n",
       "      <td>Peninsula</td>\n",
       "      <td>Discover how the Peninsula has changed over th...</td>\n",
       "      <td>Prospect Park</td>\n",
       "      <td>B073</td>\n",
       "      <td>NaN</td>\n",
       "      <td>NaN</td>\n",
       "    </tr>\n",
       "    <tr>\n",
       "      <th>4</th>\n",
       "      <td>N</td>\n",
       "      <td>Easy</td>\n",
       "      <td>0.5 miles</td>\n",
       "      <td>N</td>\n",
       "      <td>Enter Park at Lincoln Road and Ocean Avenue en...</td>\n",
       "      <td>Waterfall</td>\n",
       "      <td>Trace the source of the Lake on the Waterfall ...</td>\n",
       "      <td>Prospect Park</td>\n",
       "      <td>B073</td>\n",
       "      <td>NaN</td>\n",
       "      <td>NaN</td>\n",
       "    </tr>\n",
       "  </tbody>\n",
       "</table>\n",
       "</div>"
      ],
      "text/plain": [
       "  Accessible Difficulty      Length Limited_Access  \\\n",
       "0          Y       None   0.8 miles              N   \n",
       "1          N       Easy    1.0 mile              N   \n",
       "2          N       Easy  0.75 miles              N   \n",
       "3          N       Easy   0.5 miles              N   \n",
       "4          N       Easy   0.5 miles              N   \n",
       "\n",
       "                                            Location                     Name  \\\n",
       "0  Enter behind the Salt Marsh Nature Center, loc...  Salt Marsh Nature Trail   \n",
       "1  Enter Park at Lincoln Road and Ocean Avenue en...                Lullwater   \n",
       "2  Enter Park at Lincoln Road and Ocean Avenue en...                  Midwood   \n",
       "3  Enter Park at Lincoln Road and Ocean Avenue en...                Peninsula   \n",
       "4  Enter Park at Lincoln Road and Ocean Avenue en...                Waterfall   \n",
       "\n",
       "                                       Other_Details      Park_Name Prop_ID  \\\n",
       "0  <p>The first half of this mile-long trail foll...    Marine Park    B057   \n",
       "1  Explore the Lullwater to see how nature thrive...  Prospect Park    B073   \n",
       "2  Step back in time with a walk through Brooklyn...  Prospect Park    B073   \n",
       "3  Discover how the Peninsula has changed over th...  Prospect Park    B073   \n",
       "4  Trace the source of the Lake on the Waterfall ...  Prospect Park    B073   \n",
       "\n",
       "   lat  lon  \n",
       "0  NaN  NaN  \n",
       "1  NaN  NaN  \n",
       "2  NaN  NaN  \n",
       "3  NaN  NaN  \n",
       "4  NaN  NaN  "
      ]
     },
     "execution_count": 47,
     "metadata": {},
     "output_type": "execute_result"
    }
   ],
   "source": [
    "import json\n",
    "hiking = pd.read_json('hiking.json')\n",
    "hiking.head()"
   ]
  },
  {
   "cell_type": "code",
   "execution_count": 48,
   "metadata": {},
   "outputs": [
    {
     "data": {
      "text/plain": [
       "Index(['Accessible', 'Difficulty', 'Length', 'Limited_Access', 'Location',\n",
       "       'Name', 'Other_Details', 'Park_Name', 'Prop_ID', 'lat', 'lon'],\n",
       "      dtype='object')"
      ]
     },
     "execution_count": 48,
     "metadata": {},
     "output_type": "execute_result"
    }
   ],
   "source": [
    "hiking.columns"
   ]
  },
  {
   "cell_type": "code",
   "execution_count": 49,
   "metadata": {},
   "outputs": [
    {
     "data": {
      "text/plain": [
       "(33, 11)"
      ]
     },
     "execution_count": 49,
     "metadata": {},
     "output_type": "execute_result"
    }
   ],
   "source": [
    "hiking.shape"
   ]
  },
  {
   "cell_type": "markdown",
   "metadata": {},
   "source": [
    "### Feature Engineering"
   ]
  },
  {
   "cell_type": "markdown",
   "metadata": {},
   "source": [
    "#### Encoding categorical variables - binary\n",
    "    - Take a look at the hiking dataset. \n",
    "    - There are several columns here that need encoding, one of which is the Accessible column, which needs to be encoded in order to be modeled.\n",
    "    - Accessible is a binary feature, so it has two values - either Y or N \n",
    "    - so it needs to be encoded into 1s and 0s. Use scikit-learn's LabelEncoder method to do that transformation."
   ]
  },
  {
   "cell_type": "code",
   "execution_count": 50,
   "metadata": {},
   "outputs": [
    {
     "name": "stdout",
     "output_type": "stream",
     "text": [
      "   Accessible_enc Accessible\n",
      "0               1          Y\n",
      "1               0          N\n",
      "2               0          N\n",
      "3               0          N\n",
      "4               0          N\n"
     ]
    }
   ],
   "source": [
    "from sklearn.preprocessing import LabelEncoder\n",
    "# Set up the LabelEncoder object\n",
    "enc = LabelEncoder()\n",
    "\n",
    "# Apply the encoding to the \"Accessible\" column\n",
    "hiking['Accessible_enc'] = enc.fit_transform(hiking['Accessible'])\n",
    "\n",
    "# Compare the two columns\n",
    "print(hiking[['Accessible_enc', 'Accessible']].head())"
   ]
  },
  {
   "cell_type": "markdown",
   "metadata": {},
   "source": [
    "### Encoding categorical variables - one-hot\n",
    "    - when we have more than two categories in the column"
   ]
  },
  {
   "cell_type": "code",
   "execution_count": 51,
   "metadata": {},
   "outputs": [
    {
     "data": {
      "text/html": [
       "<div>\n",
       "<style scoped>\n",
       "    .dataframe tbody tr th:only-of-type {\n",
       "        vertical-align: middle;\n",
       "    }\n",
       "\n",
       "    .dataframe tbody tr th {\n",
       "        vertical-align: top;\n",
       "    }\n",
       "\n",
       "    .dataframe thead th {\n",
       "        text-align: right;\n",
       "    }\n",
       "</style>\n",
       "<table border=\"1\" class=\"dataframe\">\n",
       "  <thead>\n",
       "    <tr style=\"text-align: right;\">\n",
       "      <th></th>\n",
       "      <th>Education</th>\n",
       "      <th>Emergency Preparedness</th>\n",
       "      <th>Environment</th>\n",
       "      <th>Health</th>\n",
       "      <th>Helping Neighbors in Need</th>\n",
       "      <th>Strengthening Communities</th>\n",
       "    </tr>\n",
       "  </thead>\n",
       "  <tbody>\n",
       "    <tr>\n",
       "      <th>0</th>\n",
       "      <td>0</td>\n",
       "      <td>0</td>\n",
       "      <td>0</td>\n",
       "      <td>0</td>\n",
       "      <td>0</td>\n",
       "      <td>0</td>\n",
       "    </tr>\n",
       "    <tr>\n",
       "      <th>1</th>\n",
       "      <td>0</td>\n",
       "      <td>0</td>\n",
       "      <td>0</td>\n",
       "      <td>0</td>\n",
       "      <td>0</td>\n",
       "      <td>1</td>\n",
       "    </tr>\n",
       "    <tr>\n",
       "      <th>2</th>\n",
       "      <td>0</td>\n",
       "      <td>0</td>\n",
       "      <td>0</td>\n",
       "      <td>0</td>\n",
       "      <td>0</td>\n",
       "      <td>1</td>\n",
       "    </tr>\n",
       "    <tr>\n",
       "      <th>3</th>\n",
       "      <td>0</td>\n",
       "      <td>0</td>\n",
       "      <td>0</td>\n",
       "      <td>0</td>\n",
       "      <td>0</td>\n",
       "      <td>1</td>\n",
       "    </tr>\n",
       "    <tr>\n",
       "      <th>4</th>\n",
       "      <td>0</td>\n",
       "      <td>0</td>\n",
       "      <td>1</td>\n",
       "      <td>0</td>\n",
       "      <td>0</td>\n",
       "      <td>0</td>\n",
       "    </tr>\n",
       "  </tbody>\n",
       "</table>\n",
       "</div>"
      ],
      "text/plain": [
       "   Education  Emergency Preparedness  Environment  Health  \\\n",
       "0          0                       0            0       0   \n",
       "1          0                       0            0       0   \n",
       "2          0                       0            0       0   \n",
       "3          0                       0            0       0   \n",
       "4          0                       0            1       0   \n",
       "\n",
       "   Helping Neighbors in Need  Strengthening Communities  \n",
       "0                          0                          0  \n",
       "1                          0                          1  \n",
       "2                          0                          1  \n",
       "3                          0                          1  \n",
       "4                          0                          0  "
      ]
     },
     "execution_count": 51,
     "metadata": {},
     "output_type": "execute_result"
    }
   ],
   "source": [
    "# Transform the category_desc column\n",
    "category_enc = pd.get_dummies(volunteer['Category_Desc'])\n",
    "\n",
    "# Take a look at the encoded columns\n",
    "category_enc.head()"
   ]
  },
  {
   "cell_type": "markdown",
   "metadata": {},
   "source": [
    "### Engineering numerical features - taking an average"
   ]
  },
  {
   "cell_type": "markdown",
   "metadata": {},
   "source": [
    "    - A good use case for taking an aggregate statistic to create a new feature is to take the mean of columns.\n",
    "    - Here, you have a DataFrame of running times named running_times_5k.\n",
    "    - For each name in the dataset, take the mean of their 5 run times."
   ]
  },
  {
   "cell_type": "markdown",
   "metadata": {},
   "source": [
    "    name  run1  run2  run3  run4  run5   mean\n",
    "0      Sue  20.1  18.5  19.6  20.3  18.3  19.36\n",
    "1     Mark  16.5  17.1  16.9  17.6  17.3  17.08\n",
    "2     Sean  23.5  25.1  25.2  24.6  23.9  24.46\n",
    "3     Erin  21.7  21.1  20.9  22.1  22.2  21.60\n",
    "4    Jenny  25.8  27.1  26.1  26.7  26.9  26.52\n",
    "5  Russell  30.9  29.6  31.4  30.4  29.9  30.44"
   ]
  },
  {
   "cell_type": "code",
   "execution_count": null,
   "metadata": {},
   "outputs": [],
   "source": [
    "# Create a list of the columns to average\n",
    "run_columns= ['run1',  'run2',  'run3',  'run4',  'run5']\n",
    "\n",
    "# Use apply to create a mean column\n",
    "running_times_5k[\"mean\"] = running_times_5k.apply(lambda row: row[run_columns].mean(), axis= 1)\n",
    "\n",
    "# Take a look at the results\n",
    "print(running_times_5k.head)"
   ]
  },
  {
   "cell_type": "markdown",
   "metadata": {},
   "source": [
    "### Engineering numerical features - datetime"
   ]
  },
  {
   "cell_type": "markdown",
   "metadata": {},
   "source": [
    "    - There are several columns in the volunteer dataset comprised of datetimes. \n",
    "    - Let's take a look at the start_date_date column and extract just the month to use as a feature for modeling."
   ]
  },
  {
   "cell_type": "code",
   "execution_count": 54,
   "metadata": {},
   "outputs": [
    {
     "name": "stdout",
     "output_type": "stream",
     "text": [
      "  start_date_converted  start_date_month\n",
      "0           2011-07-30                 7\n",
      "1           2011-02-01                 2\n",
      "2           2011-01-29                 1\n",
      "3           2011-02-14                 2\n",
      "4           2011-02-05                 2\n"
     ]
    }
   ],
   "source": [
    "# First, convert string column to date column\n",
    "volunteer[\"start_date_converted\"] = pd.to_datetime(volunteer['Start_Date'])\n",
    "\n",
    "# Extract just the month from the converted column\n",
    "volunteer[\"start_date_month\"] = volunteer['start_date_converted'].apply(lambda row: row.month)\n",
    "\n",
    "# Take a look at the converted and new month columns\n",
    "print(volunteer[['start_date_converted', 'start_date_month']].head())"
   ]
  },
  {
   "cell_type": "markdown",
   "metadata": {},
   "source": [
    "### Engineering features from strings - extraction"
   ]
  },
  {
   "cell_type": "code",
   "execution_count": 55,
   "metadata": {},
   "outputs": [
    {
     "data": {
      "text/html": [
       "<div>\n",
       "<style scoped>\n",
       "    .dataframe tbody tr th:only-of-type {\n",
       "        vertical-align: middle;\n",
       "    }\n",
       "\n",
       "    .dataframe tbody tr th {\n",
       "        vertical-align: top;\n",
       "    }\n",
       "\n",
       "    .dataframe thead th {\n",
       "        text-align: right;\n",
       "    }\n",
       "</style>\n",
       "<table border=\"1\" class=\"dataframe\">\n",
       "  <thead>\n",
       "    <tr style=\"text-align: right;\">\n",
       "      <th></th>\n",
       "      <th>Accessible</th>\n",
       "      <th>Difficulty</th>\n",
       "      <th>Length</th>\n",
       "      <th>Limited_Access</th>\n",
       "      <th>Location</th>\n",
       "      <th>Name</th>\n",
       "      <th>Other_Details</th>\n",
       "      <th>Park_Name</th>\n",
       "      <th>Prop_ID</th>\n",
       "      <th>lat</th>\n",
       "      <th>lon</th>\n",
       "      <th>Accessible_enc</th>\n",
       "    </tr>\n",
       "  </thead>\n",
       "  <tbody>\n",
       "    <tr>\n",
       "      <th>0</th>\n",
       "      <td>Y</td>\n",
       "      <td>None</td>\n",
       "      <td>0.8 miles</td>\n",
       "      <td>N</td>\n",
       "      <td>Enter behind the Salt Marsh Nature Center, loc...</td>\n",
       "      <td>Salt Marsh Nature Trail</td>\n",
       "      <td>&lt;p&gt;The first half of this mile-long trail foll...</td>\n",
       "      <td>Marine Park</td>\n",
       "      <td>B057</td>\n",
       "      <td>NaN</td>\n",
       "      <td>NaN</td>\n",
       "      <td>1</td>\n",
       "    </tr>\n",
       "    <tr>\n",
       "      <th>1</th>\n",
       "      <td>N</td>\n",
       "      <td>Easy</td>\n",
       "      <td>1.0 mile</td>\n",
       "      <td>N</td>\n",
       "      <td>Enter Park at Lincoln Road and Ocean Avenue en...</td>\n",
       "      <td>Lullwater</td>\n",
       "      <td>Explore the Lullwater to see how nature thrive...</td>\n",
       "      <td>Prospect Park</td>\n",
       "      <td>B073</td>\n",
       "      <td>NaN</td>\n",
       "      <td>NaN</td>\n",
       "      <td>0</td>\n",
       "    </tr>\n",
       "    <tr>\n",
       "      <th>2</th>\n",
       "      <td>N</td>\n",
       "      <td>Easy</td>\n",
       "      <td>0.75 miles</td>\n",
       "      <td>N</td>\n",
       "      <td>Enter Park at Lincoln Road and Ocean Avenue en...</td>\n",
       "      <td>Midwood</td>\n",
       "      <td>Step back in time with a walk through Brooklyn...</td>\n",
       "      <td>Prospect Park</td>\n",
       "      <td>B073</td>\n",
       "      <td>NaN</td>\n",
       "      <td>NaN</td>\n",
       "      <td>0</td>\n",
       "    </tr>\n",
       "    <tr>\n",
       "      <th>3</th>\n",
       "      <td>N</td>\n",
       "      <td>Easy</td>\n",
       "      <td>0.5 miles</td>\n",
       "      <td>N</td>\n",
       "      <td>Enter Park at Lincoln Road and Ocean Avenue en...</td>\n",
       "      <td>Peninsula</td>\n",
       "      <td>Discover how the Peninsula has changed over th...</td>\n",
       "      <td>Prospect Park</td>\n",
       "      <td>B073</td>\n",
       "      <td>NaN</td>\n",
       "      <td>NaN</td>\n",
       "      <td>0</td>\n",
       "    </tr>\n",
       "    <tr>\n",
       "      <th>4</th>\n",
       "      <td>N</td>\n",
       "      <td>Easy</td>\n",
       "      <td>0.5 miles</td>\n",
       "      <td>N</td>\n",
       "      <td>Enter Park at Lincoln Road and Ocean Avenue en...</td>\n",
       "      <td>Waterfall</td>\n",
       "      <td>Trace the source of the Lake on the Waterfall ...</td>\n",
       "      <td>Prospect Park</td>\n",
       "      <td>B073</td>\n",
       "      <td>NaN</td>\n",
       "      <td>NaN</td>\n",
       "      <td>0</td>\n",
       "    </tr>\n",
       "  </tbody>\n",
       "</table>\n",
       "</div>"
      ],
      "text/plain": [
       "  Accessible Difficulty      Length Limited_Access  \\\n",
       "0          Y       None   0.8 miles              N   \n",
       "1          N       Easy    1.0 mile              N   \n",
       "2          N       Easy  0.75 miles              N   \n",
       "3          N       Easy   0.5 miles              N   \n",
       "4          N       Easy   0.5 miles              N   \n",
       "\n",
       "                                            Location                     Name  \\\n",
       "0  Enter behind the Salt Marsh Nature Center, loc...  Salt Marsh Nature Trail   \n",
       "1  Enter Park at Lincoln Road and Ocean Avenue en...                Lullwater   \n",
       "2  Enter Park at Lincoln Road and Ocean Avenue en...                  Midwood   \n",
       "3  Enter Park at Lincoln Road and Ocean Avenue en...                Peninsula   \n",
       "4  Enter Park at Lincoln Road and Ocean Avenue en...                Waterfall   \n",
       "\n",
       "                                       Other_Details      Park_Name Prop_ID  \\\n",
       "0  <p>The first half of this mile-long trail foll...    Marine Park    B057   \n",
       "1  Explore the Lullwater to see how nature thrive...  Prospect Park    B073   \n",
       "2  Step back in time with a walk through Brooklyn...  Prospect Park    B073   \n",
       "3  Discover how the Peninsula has changed over th...  Prospect Park    B073   \n",
       "4  Trace the source of the Lake on the Waterfall ...  Prospect Park    B073   \n",
       "\n",
       "   lat  lon  Accessible_enc  \n",
       "0  NaN  NaN               1  \n",
       "1  NaN  NaN               0  \n",
       "2  NaN  NaN               0  \n",
       "3  NaN  NaN               0  \n",
       "4  NaN  NaN               0  "
      ]
     },
     "execution_count": 55,
     "metadata": {},
     "output_type": "execute_result"
    }
   ],
   "source": [
    "hiking.head()"
   ]
  },
  {
   "cell_type": "code",
   "execution_count": null,
   "metadata": {},
   "outputs": [],
   "source": [
    "import re\n",
    "# Write a pattern to extract numbers and decimals\n",
    "def return_mileage(length):\n",
    "    pattern = re.compile(r\"\\d+\\.\\d+\")\n",
    "    \n",
    "    # Search the text for matches\n",
    "    mile = re.match(pattern, length)\n",
    "    \n",
    "    # If a value is returned, use group(0) to return the found value\n",
    "    if mile is not None:\n",
    "        return float(mile.group(0))\n",
    "        \n",
    "# Apply the function to the Length column and take a look at both columns\n",
    "hiking[\"Length_num\"] = hiking[\"Length\"].apply(lambda row: return_mileage(row))\n",
    "print(hiking[[\"Length\", \"Length_num\"]].head())\n"
   ]
  },
  {
   "cell_type": "code",
   "execution_count": null,
   "metadata": {},
   "outputs": [],
   "source": [
    "volunteer.columns"
   ]
  },
  {
   "cell_type": "markdown",
   "metadata": {},
   "source": [
    "### Engineering features from strings - tf/idf\n",
    "Let's transform the volunteer dataset's title column into a text vector, to use in a prediction task in the next exercise."
   ]
  },
  {
   "cell_type": "code",
   "execution_count": 57,
   "metadata": {},
   "outputs": [],
   "source": [
    "from sklearn.feature_extraction.text import TfidfVectorizer\n",
    "# Take the title text\n",
    "title_text = volunteer['Title']\n",
    "\n",
    "# Create the vectorizer method\n",
    "tfidf_vec = TfidfVectorizer()\n",
    "\n",
    "# Transform the text into tf-idf vectors\n",
    "text_tfidf = tfidf_vec.fit_transform(title_text)"
   ]
  },
  {
   "cell_type": "markdown",
   "metadata": {},
   "source": [
    "### Text classification using tf/idf vectors"
   ]
  },
  {
   "cell_type": "markdown",
   "metadata": {},
   "source": [
    "    - Now that we've encoded the volunteer dataset's title column into tf/idf vectors, let's use those vectors to try to predict the category_desc column."
   ]
  },
  {
   "cell_type": "code",
   "execution_count": null,
   "metadata": {},
   "outputs": [],
   "source": [
    "# Split the dataset according to the class distribution of category_desc\n",
    "volunteer_y = volunteer[['Category_Desc']]\n",
    "from sklearn.model_selection import train_test_split\n",
    "X_train, X_test, y_train, y_test = train_test_split(text_tfidf.toarray(), volunteer_y, stratify= volunteer_y)\n",
    "\n",
    "#Import Gaussian Naive Bayes model\n",
    "from sklearn.naive_bayes import GaussianNB\n",
    "\n",
    "#Create a Gaussian Classifier\n",
    "model = GaussianNB()\n",
    "\n",
    "# Fit the model to the training data\n",
    "model.fit(X_train, y_train)\n",
    "\n",
    "# Print out the model's accuracy\n",
    "print(model.score(X_test,y_test))"
   ]
  },
  {
   "cell_type": "markdown",
   "metadata": {},
   "source": [
    "### Feature_Selection"
   ]
  },
  {
   "cell_type": "code",
   "execution_count": 59,
   "metadata": {},
   "outputs": [
    {
     "data": {
      "text/html": [
       "<div>\n",
       "<style scoped>\n",
       "    .dataframe tbody tr th:only-of-type {\n",
       "        vertical-align: middle;\n",
       "    }\n",
       "\n",
       "    .dataframe tbody tr th {\n",
       "        vertical-align: top;\n",
       "    }\n",
       "\n",
       "    .dataframe thead th {\n",
       "        text-align: right;\n",
       "    }\n",
       "</style>\n",
       "<table border=\"1\" class=\"dataframe\">\n",
       "  <thead>\n",
       "    <tr style=\"text-align: right;\">\n",
       "      <th></th>\n",
       "      <th>Opportunity_Id</th>\n",
       "      <th>Content_Id</th>\n",
       "      <th>Vol_Requests</th>\n",
       "      <th>Hits</th>\n",
       "      <th>Is_Priority</th>\n",
       "      <th>Category_Id</th>\n",
       "      <th>Org_Content_Id</th>\n",
       "      <th>Zip_Code</th>\n",
       "      <th>start_date_month</th>\n",
       "    </tr>\n",
       "  </thead>\n",
       "  <tbody>\n",
       "    <tr>\n",
       "      <th>Opportunity_Id</th>\n",
       "      <td>1.000000</td>\n",
       "      <td>0.934123</td>\n",
       "      <td>-0.057854</td>\n",
       "      <td>-0.210478</td>\n",
       "      <td>0.090540</td>\n",
       "      <td>0.167295</td>\n",
       "      <td>0.071100</td>\n",
       "      <td>0.032376</td>\n",
       "      <td>0.213386</td>\n",
       "    </tr>\n",
       "    <tr>\n",
       "      <th>Content_Id</th>\n",
       "      <td>0.934123</td>\n",
       "      <td>1.000000</td>\n",
       "      <td>-0.053363</td>\n",
       "      <td>-0.205621</td>\n",
       "      <td>0.105568</td>\n",
       "      <td>0.200715</td>\n",
       "      <td>0.013637</td>\n",
       "      <td>0.041467</td>\n",
       "      <td>0.190070</td>\n",
       "    </tr>\n",
       "    <tr>\n",
       "      <th>Vol_Requests</th>\n",
       "      <td>-0.057854</td>\n",
       "      <td>-0.053363</td>\n",
       "      <td>1.000000</td>\n",
       "      <td>0.039415</td>\n",
       "      <td>0.025604</td>\n",
       "      <td>-0.023236</td>\n",
       "      <td>-0.004903</td>\n",
       "      <td>-0.011329</td>\n",
       "      <td>0.004984</td>\n",
       "    </tr>\n",
       "    <tr>\n",
       "      <th>Hits</th>\n",
       "      <td>-0.210478</td>\n",
       "      <td>-0.205621</td>\n",
       "      <td>0.039415</td>\n",
       "      <td>1.000000</td>\n",
       "      <td>0.482129</td>\n",
       "      <td>0.137030</td>\n",
       "      <td>-0.036525</td>\n",
       "      <td>-0.014812</td>\n",
       "      <td>0.005431</td>\n",
       "    </tr>\n",
       "    <tr>\n",
       "      <th>Is_Priority</th>\n",
       "      <td>0.090540</td>\n",
       "      <td>0.105568</td>\n",
       "      <td>0.025604</td>\n",
       "      <td>0.482129</td>\n",
       "      <td>1.000000</td>\n",
       "      <td>0.318275</td>\n",
       "      <td>-0.139350</td>\n",
       "      <td>-0.003817</td>\n",
       "      <td>0.091098</td>\n",
       "    </tr>\n",
       "    <tr>\n",
       "      <th>Category_Id</th>\n",
       "      <td>0.167295</td>\n",
       "      <td>0.200715</td>\n",
       "      <td>-0.023236</td>\n",
       "      <td>0.137030</td>\n",
       "      <td>0.318275</td>\n",
       "      <td>1.000000</td>\n",
       "      <td>-0.131680</td>\n",
       "      <td>0.085496</td>\n",
       "      <td>0.041946</td>\n",
       "    </tr>\n",
       "    <tr>\n",
       "      <th>Org_Content_Id</th>\n",
       "      <td>0.071100</td>\n",
       "      <td>0.013637</td>\n",
       "      <td>-0.004903</td>\n",
       "      <td>-0.036525</td>\n",
       "      <td>-0.139350</td>\n",
       "      <td>-0.131680</td>\n",
       "      <td>1.000000</td>\n",
       "      <td>-0.035935</td>\n",
       "      <td>0.060282</td>\n",
       "    </tr>\n",
       "    <tr>\n",
       "      <th>Zip_Code</th>\n",
       "      <td>0.032376</td>\n",
       "      <td>0.041467</td>\n",
       "      <td>-0.011329</td>\n",
       "      <td>-0.014812</td>\n",
       "      <td>-0.003817</td>\n",
       "      <td>0.085496</td>\n",
       "      <td>-0.035935</td>\n",
       "      <td>1.000000</td>\n",
       "      <td>0.058499</td>\n",
       "    </tr>\n",
       "    <tr>\n",
       "      <th>start_date_month</th>\n",
       "      <td>0.213386</td>\n",
       "      <td>0.190070</td>\n",
       "      <td>0.004984</td>\n",
       "      <td>0.005431</td>\n",
       "      <td>0.091098</td>\n",
       "      <td>0.041946</td>\n",
       "      <td>0.060282</td>\n",
       "      <td>0.058499</td>\n",
       "      <td>1.000000</td>\n",
       "    </tr>\n",
       "  </tbody>\n",
       "</table>\n",
       "</div>"
      ],
      "text/plain": [
       "                  Opportunity_Id  Content_Id  Vol_Requests      Hits  \\\n",
       "Opportunity_Id          1.000000    0.934123     -0.057854 -0.210478   \n",
       "Content_Id              0.934123    1.000000     -0.053363 -0.205621   \n",
       "Vol_Requests           -0.057854   -0.053363      1.000000  0.039415   \n",
       "Hits                   -0.210478   -0.205621      0.039415  1.000000   \n",
       "Is_Priority             0.090540    0.105568      0.025604  0.482129   \n",
       "Category_Id             0.167295    0.200715     -0.023236  0.137030   \n",
       "Org_Content_Id          0.071100    0.013637     -0.004903 -0.036525   \n",
       "Zip_Code                0.032376    0.041467     -0.011329 -0.014812   \n",
       "start_date_month        0.213386    0.190070      0.004984  0.005431   \n",
       "\n",
       "                  Is_Priority  Category_Id  Org_Content_Id  Zip_Code  \\\n",
       "Opportunity_Id       0.090540     0.167295        0.071100  0.032376   \n",
       "Content_Id           0.105568     0.200715        0.013637  0.041467   \n",
       "Vol_Requests         0.025604    -0.023236       -0.004903 -0.011329   \n",
       "Hits                 0.482129     0.137030       -0.036525 -0.014812   \n",
       "Is_Priority          1.000000     0.318275       -0.139350 -0.003817   \n",
       "Category_Id          0.318275     1.000000       -0.131680  0.085496   \n",
       "Org_Content_Id      -0.139350    -0.131680        1.000000 -0.035935   \n",
       "Zip_Code            -0.003817     0.085496       -0.035935  1.000000   \n",
       "start_date_month     0.091098     0.041946        0.060282  0.058499   \n",
       "\n",
       "                  start_date_month  \n",
       "Opportunity_Id            0.213386  \n",
       "Content_Id                0.190070  \n",
       "Vol_Requests              0.004984  \n",
       "Hits                      0.005431  \n",
       "Is_Priority               0.091098  \n",
       "Category_Id               0.041946  \n",
       "Org_Content_Id            0.060282  \n",
       "Zip_Code                  0.058499  \n",
       "start_date_month          1.000000  "
      ]
     },
     "execution_count": 59,
     "metadata": {},
     "output_type": "execute_result"
    }
   ],
   "source": [
    "volunteer.corr()"
   ]
  },
  {
   "cell_type": "markdown",
   "metadata": {},
   "source": [
    "### Selecting relevant features\n",
    "    - Now that you've identified redundant columns in the volunteer dataset, let's perform feature selection on the dataset to return a DataFrame of the relevant features."
   ]
  },
  {
   "cell_type": "code",
   "execution_count": 60,
   "metadata": {},
   "outputs": [
    {
     "name": "stdout",
     "output_type": "stream",
     "text": [
      "   Opportunity_Id  Content_Id  \\\n",
      "0            4996       37004   \n",
      "\n",
      "                                               Title  Hits  \\\n",
      "0  Volunteers Needed For Rise Up & Stay Put! Home...   737   \n",
      "\n",
      "                                             Summary  Is_Priority  \\\n",
      "0  Building on successful events last summer and ...        False   \n",
      "\n",
      "   Category_Id                     Org_Title  Org_Content_Id  Zip_Code  \\\n",
      "0          NaN  Center For NYC Neighborhoods            4426       NaN   \n",
      "\n",
      "                                 URL Recurrence_Type Last_Modified_Date  \\\n",
      "0  https:/https://opportunities/4996         onetime         06/23/2011   \n",
      "\n",
      "   Start_Date    End_Date start_date_converted  start_date_month  \n",
      "0  07/30/2011  07/30/2011           2011-07-30                 7  \n"
     ]
    }
   ],
   "source": [
    "# Create a list of redundant column names to drop\n",
    "to_drop = volunteer.iloc[:,[2,8,11,15]]\n",
    "\n",
    "# Drop those columns from the dataset\n",
    "volunteer_subset = volunteer.drop(to_drop, axis=1)\n",
    "\n",
    "# Print out the head of the new dataset\n",
    "print(volunteer_subset.head(1))"
   ]
  },
  {
   "cell_type": "code",
   "execution_count": 61,
   "metadata": {},
   "outputs": [
    {
     "data": {
      "text/plain": [
       "Index(['Opportunity_Id', 'Content_Id', 'Vol_Requests', 'Title', 'Hits',\n",
       "       'Summary', 'Is_Priority', 'Category_Id', 'Category_Desc', 'Org_Title',\n",
       "       'Org_Content_Id', 'Locality', 'Zip_Code', 'URL', 'Recurrence_Type',\n",
       "       'Created_Date', 'Last_Modified_Date', 'Start_Date', 'End_Date',\n",
       "       'start_date_converted', 'start_date_month'],\n",
       "      dtype='object')"
      ]
     },
     "execution_count": 61,
     "metadata": {},
     "output_type": "execute_result"
    }
   ],
   "source": [
    "volunteer.columns"
   ]
  },
  {
   "cell_type": "markdown",
   "metadata": {},
   "source": [
    "### Checking for correlated features\n",
    "    - Let's take a look at the wine dataset again, which is made up of continuous, numerical features. Run Pearson's correlation coefficient on the dataset to determine which columns are good candidates for eliminating. Then, remove those columns from the DataFrame."
   ]
  },
  {
   "cell_type": "code",
   "execution_count": 62,
   "metadata": {},
   "outputs": [
    {
     "data": {
      "text/html": [
       "<div>\n",
       "<style scoped>\n",
       "    .dataframe tbody tr th:only-of-type {\n",
       "        vertical-align: middle;\n",
       "    }\n",
       "\n",
       "    .dataframe tbody tr th {\n",
       "        vertical-align: top;\n",
       "    }\n",
       "\n",
       "    .dataframe thead th {\n",
       "        text-align: right;\n",
       "    }\n",
       "</style>\n",
       "<table border=\"1\" class=\"dataframe\">\n",
       "  <thead>\n",
       "    <tr style=\"text-align: right;\">\n",
       "      <th></th>\n",
       "      <th>class</th>\n",
       "      <th>Alcohol</th>\n",
       "      <th>Malic acid</th>\n",
       "      <th>Ash</th>\n",
       "      <th>Alcalinity of ash</th>\n",
       "      <th>Magnesium</th>\n",
       "      <th>Total phenols</th>\n",
       "      <th>Flavanoids</th>\n",
       "      <th>Nonflavanoid phenols</th>\n",
       "      <th>Proanthocyanins</th>\n",
       "      <th>Color intensity</th>\n",
       "      <th>Hue</th>\n",
       "      <th>OD280/OD315 of diluted wines</th>\n",
       "      <th>Proline</th>\n",
       "      <th>Proline_log</th>\n",
       "    </tr>\n",
       "  </thead>\n",
       "  <tbody>\n",
       "    <tr>\n",
       "      <th>class</th>\n",
       "      <td>1.000000</td>\n",
       "      <td>-0.328222</td>\n",
       "      <td>0.446159</td>\n",
       "      <td>-0.049643</td>\n",
       "      <td>0.517859</td>\n",
       "      <td>-0.209179</td>\n",
       "      <td>-0.719163</td>\n",
       "      <td>-0.847498</td>\n",
       "      <td>0.489109</td>\n",
       "      <td>-0.499130</td>\n",
       "      <td>0.265668</td>\n",
       "      <td>-0.617369</td>\n",
       "      <td>-0.788230</td>\n",
       "      <td>-0.633717</td>\n",
       "      <td>-0.569246</td>\n",
       "    </tr>\n",
       "    <tr>\n",
       "      <th>Alcohol</th>\n",
       "      <td>-0.328222</td>\n",
       "      <td>1.000000</td>\n",
       "      <td>-0.112755</td>\n",
       "      <td>0.211545</td>\n",
       "      <td>-0.310235</td>\n",
       "      <td>0.270798</td>\n",
       "      <td>0.289101</td>\n",
       "      <td>0.236815</td>\n",
       "      <td>-0.155929</td>\n",
       "      <td>0.136698</td>\n",
       "      <td>0.546364</td>\n",
       "      <td>-0.071747</td>\n",
       "      <td>0.072343</td>\n",
       "      <td>0.643720</td>\n",
       "      <td>0.637325</td>\n",
       "    </tr>\n",
       "    <tr>\n",
       "      <th>Malic acid</th>\n",
       "      <td>0.446159</td>\n",
       "      <td>-0.112755</td>\n",
       "      <td>1.000000</td>\n",
       "      <td>0.121759</td>\n",
       "      <td>0.365493</td>\n",
       "      <td>-0.054432</td>\n",
       "      <td>-0.325172</td>\n",
       "      <td>-0.371340</td>\n",
       "      <td>0.315806</td>\n",
       "      <td>-0.207111</td>\n",
       "      <td>0.128887</td>\n",
       "      <td>-0.361964</td>\n",
       "      <td>-0.369285</td>\n",
       "      <td>-0.215564</td>\n",
       "      <td>-0.185750</td>\n",
       "    </tr>\n",
       "    <tr>\n",
       "      <th>Ash</th>\n",
       "      <td>-0.049643</td>\n",
       "      <td>0.211545</td>\n",
       "      <td>0.121759</td>\n",
       "      <td>1.000000</td>\n",
       "      <td>0.443367</td>\n",
       "      <td>0.286587</td>\n",
       "      <td>0.128980</td>\n",
       "      <td>0.115077</td>\n",
       "      <td>0.186230</td>\n",
       "      <td>0.009652</td>\n",
       "      <td>0.258887</td>\n",
       "      <td>-0.074667</td>\n",
       "      <td>0.003911</td>\n",
       "      <td>0.223626</td>\n",
       "      <td>0.238394</td>\n",
       "    </tr>\n",
       "    <tr>\n",
       "      <th>Alcalinity of ash</th>\n",
       "      <td>0.517859</td>\n",
       "      <td>-0.310235</td>\n",
       "      <td>0.365493</td>\n",
       "      <td>0.443367</td>\n",
       "      <td>1.000000</td>\n",
       "      <td>-0.083333</td>\n",
       "      <td>-0.321113</td>\n",
       "      <td>-0.351370</td>\n",
       "      <td>0.361922</td>\n",
       "      <td>-0.197327</td>\n",
       "      <td>0.018732</td>\n",
       "      <td>-0.273955</td>\n",
       "      <td>-0.276769</td>\n",
       "      <td>-0.440597</td>\n",
       "      <td>-0.416897</td>\n",
       "    </tr>\n",
       "    <tr>\n",
       "      <th>Magnesium</th>\n",
       "      <td>-0.209179</td>\n",
       "      <td>0.270798</td>\n",
       "      <td>-0.054432</td>\n",
       "      <td>0.286587</td>\n",
       "      <td>-0.083333</td>\n",
       "      <td>1.000000</td>\n",
       "      <td>0.214401</td>\n",
       "      <td>0.195784</td>\n",
       "      <td>-0.256294</td>\n",
       "      <td>0.236441</td>\n",
       "      <td>0.199950</td>\n",
       "      <td>0.055398</td>\n",
       "      <td>0.066004</td>\n",
       "      <td>0.393351</td>\n",
       "      <td>0.424006</td>\n",
       "    </tr>\n",
       "    <tr>\n",
       "      <th>Total phenols</th>\n",
       "      <td>-0.719163</td>\n",
       "      <td>0.289101</td>\n",
       "      <td>-0.325172</td>\n",
       "      <td>0.128980</td>\n",
       "      <td>-0.321113</td>\n",
       "      <td>0.214401</td>\n",
       "      <td>1.000000</td>\n",
       "      <td>0.864564</td>\n",
       "      <td>-0.449935</td>\n",
       "      <td>0.612413</td>\n",
       "      <td>-0.055136</td>\n",
       "      <td>0.433681</td>\n",
       "      <td>0.699949</td>\n",
       "      <td>0.498115</td>\n",
       "      <td>0.431205</td>\n",
       "    </tr>\n",
       "    <tr>\n",
       "      <th>Flavanoids</th>\n",
       "      <td>-0.847498</td>\n",
       "      <td>0.236815</td>\n",
       "      <td>-0.371340</td>\n",
       "      <td>0.115077</td>\n",
       "      <td>-0.351370</td>\n",
       "      <td>0.195784</td>\n",
       "      <td>0.864564</td>\n",
       "      <td>1.000000</td>\n",
       "      <td>-0.537900</td>\n",
       "      <td>0.652692</td>\n",
       "      <td>-0.172379</td>\n",
       "      <td>0.543479</td>\n",
       "      <td>0.787194</td>\n",
       "      <td>0.494193</td>\n",
       "      <td>0.410494</td>\n",
       "    </tr>\n",
       "    <tr>\n",
       "      <th>Nonflavanoid phenols</th>\n",
       "      <td>0.489109</td>\n",
       "      <td>-0.155929</td>\n",
       "      <td>0.315806</td>\n",
       "      <td>0.186230</td>\n",
       "      <td>0.361922</td>\n",
       "      <td>-0.256294</td>\n",
       "      <td>-0.449935</td>\n",
       "      <td>-0.537900</td>\n",
       "      <td>1.000000</td>\n",
       "      <td>-0.365845</td>\n",
       "      <td>0.139057</td>\n",
       "      <td>-0.262640</td>\n",
       "      <td>-0.503270</td>\n",
       "      <td>-0.311385</td>\n",
       "      <td>-0.275675</td>\n",
       "    </tr>\n",
       "    <tr>\n",
       "      <th>Proanthocyanins</th>\n",
       "      <td>-0.499130</td>\n",
       "      <td>0.136698</td>\n",
       "      <td>-0.207111</td>\n",
       "      <td>0.009652</td>\n",
       "      <td>-0.197327</td>\n",
       "      <td>0.236441</td>\n",
       "      <td>0.612413</td>\n",
       "      <td>0.652692</td>\n",
       "      <td>-0.365845</td>\n",
       "      <td>1.000000</td>\n",
       "      <td>-0.025250</td>\n",
       "      <td>0.295544</td>\n",
       "      <td>0.519067</td>\n",
       "      <td>0.330417</td>\n",
       "      <td>0.290203</td>\n",
       "    </tr>\n",
       "    <tr>\n",
       "      <th>Color intensity</th>\n",
       "      <td>0.265668</td>\n",
       "      <td>0.546364</td>\n",
       "      <td>0.128887</td>\n",
       "      <td>0.258887</td>\n",
       "      <td>0.018732</td>\n",
       "      <td>0.199950</td>\n",
       "      <td>-0.055136</td>\n",
       "      <td>-0.172379</td>\n",
       "      <td>0.139057</td>\n",
       "      <td>-0.025250</td>\n",
       "      <td>1.000000</td>\n",
       "      <td>-0.521813</td>\n",
       "      <td>-0.428815</td>\n",
       "      <td>0.316100</td>\n",
       "      <td>0.348970</td>\n",
       "    </tr>\n",
       "    <tr>\n",
       "      <th>Hue</th>\n",
       "      <td>-0.617369</td>\n",
       "      <td>-0.071747</td>\n",
       "      <td>-0.361964</td>\n",
       "      <td>-0.074667</td>\n",
       "      <td>-0.273955</td>\n",
       "      <td>0.055398</td>\n",
       "      <td>0.433681</td>\n",
       "      <td>0.543479</td>\n",
       "      <td>-0.262640</td>\n",
       "      <td>0.295544</td>\n",
       "      <td>-0.521813</td>\n",
       "      <td>1.000000</td>\n",
       "      <td>0.565468</td>\n",
       "      <td>0.236183</td>\n",
       "      <td>0.173593</td>\n",
       "    </tr>\n",
       "    <tr>\n",
       "      <th>OD280/OD315 of diluted wines</th>\n",
       "      <td>-0.788230</td>\n",
       "      <td>0.072343</td>\n",
       "      <td>-0.369285</td>\n",
       "      <td>0.003911</td>\n",
       "      <td>-0.276769</td>\n",
       "      <td>0.066004</td>\n",
       "      <td>0.699949</td>\n",
       "      <td>0.787194</td>\n",
       "      <td>-0.503270</td>\n",
       "      <td>0.519067</td>\n",
       "      <td>-0.428815</td>\n",
       "      <td>0.565468</td>\n",
       "      <td>1.000000</td>\n",
       "      <td>0.312761</td>\n",
       "      <td>0.254218</td>\n",
       "    </tr>\n",
       "    <tr>\n",
       "      <th>Proline</th>\n",
       "      <td>-0.633717</td>\n",
       "      <td>0.643720</td>\n",
       "      <td>-0.215564</td>\n",
       "      <td>0.223626</td>\n",
       "      <td>-0.440597</td>\n",
       "      <td>0.393351</td>\n",
       "      <td>0.498115</td>\n",
       "      <td>0.494193</td>\n",
       "      <td>-0.311385</td>\n",
       "      <td>0.330417</td>\n",
       "      <td>0.316100</td>\n",
       "      <td>0.236183</td>\n",
       "      <td>0.312761</td>\n",
       "      <td>1.000000</td>\n",
       "      <td>0.977423</td>\n",
       "    </tr>\n",
       "    <tr>\n",
       "      <th>Proline_log</th>\n",
       "      <td>-0.569246</td>\n",
       "      <td>0.637325</td>\n",
       "      <td>-0.185750</td>\n",
       "      <td>0.238394</td>\n",
       "      <td>-0.416897</td>\n",
       "      <td>0.424006</td>\n",
       "      <td>0.431205</td>\n",
       "      <td>0.410494</td>\n",
       "      <td>-0.275675</td>\n",
       "      <td>0.290203</td>\n",
       "      <td>0.348970</td>\n",
       "      <td>0.173593</td>\n",
       "      <td>0.254218</td>\n",
       "      <td>0.977423</td>\n",
       "      <td>1.000000</td>\n",
       "    </tr>\n",
       "  </tbody>\n",
       "</table>\n",
       "</div>"
      ],
      "text/plain": [
       "                                  class   Alcohol  Malic acid      Ash   \\\n",
       "class                          1.000000 -0.328222    0.446159 -0.049643   \n",
       "Alcohol                       -0.328222  1.000000   -0.112755  0.211545   \n",
       "Malic acid                     0.446159 -0.112755    1.000000  0.121759   \n",
       "Ash                           -0.049643  0.211545    0.121759  1.000000   \n",
       "Alcalinity of ash              0.517859 -0.310235    0.365493  0.443367   \n",
       "Magnesium                     -0.209179  0.270798   -0.054432  0.286587   \n",
       "Total phenols                 -0.719163  0.289101   -0.325172  0.128980   \n",
       "Flavanoids                    -0.847498  0.236815   -0.371340  0.115077   \n",
       "Nonflavanoid phenols           0.489109 -0.155929    0.315806  0.186230   \n",
       " Proanthocyanins              -0.499130  0.136698   -0.207111  0.009652   \n",
       "Color intensity                0.265668  0.546364    0.128887  0.258887   \n",
       "Hue                           -0.617369 -0.071747   -0.361964 -0.074667   \n",
       "OD280/OD315 of diluted wines  -0.788230  0.072343   -0.369285  0.003911   \n",
       "Proline                       -0.633717  0.643720   -0.215564  0.223626   \n",
       "Proline_log                   -0.569246  0.637325   -0.185750  0.238394   \n",
       "\n",
       "                               Alcalinity of ash   Magnesium   Total phenols   \\\n",
       "class                                    0.517859   -0.209179       -0.719163   \n",
       "Alcohol                                 -0.310235    0.270798        0.289101   \n",
       "Malic acid                               0.365493   -0.054432       -0.325172   \n",
       "Ash                                      0.443367    0.286587        0.128980   \n",
       "Alcalinity of ash                        1.000000   -0.083333       -0.321113   \n",
       "Magnesium                               -0.083333    1.000000        0.214401   \n",
       "Total phenols                           -0.321113    0.214401        1.000000   \n",
       "Flavanoids                              -0.351370    0.195784        0.864564   \n",
       "Nonflavanoid phenols                     0.361922   -0.256294       -0.449935   \n",
       " Proanthocyanins                        -0.197327    0.236441        0.612413   \n",
       "Color intensity                          0.018732    0.199950       -0.055136   \n",
       "Hue                                     -0.273955    0.055398        0.433681   \n",
       "OD280/OD315 of diluted wines            -0.276769    0.066004        0.699949   \n",
       "Proline                                 -0.440597    0.393351        0.498115   \n",
       "Proline_log                             -0.416897    0.424006        0.431205   \n",
       "\n",
       "                               Flavanoids   Nonflavanoid phenols   \\\n",
       "class                            -0.847498               0.489109   \n",
       "Alcohol                           0.236815              -0.155929   \n",
       "Malic acid                       -0.371340               0.315806   \n",
       "Ash                               0.115077               0.186230   \n",
       "Alcalinity of ash                -0.351370               0.361922   \n",
       "Magnesium                         0.195784              -0.256294   \n",
       "Total phenols                     0.864564              -0.449935   \n",
       "Flavanoids                        1.000000              -0.537900   \n",
       "Nonflavanoid phenols             -0.537900               1.000000   \n",
       " Proanthocyanins                  0.652692              -0.365845   \n",
       "Color intensity                  -0.172379               0.139057   \n",
       "Hue                               0.543479              -0.262640   \n",
       "OD280/OD315 of diluted wines      0.787194              -0.503270   \n",
       "Proline                           0.494193              -0.311385   \n",
       "Proline_log                       0.410494              -0.275675   \n",
       "\n",
       "                                Proanthocyanins   Color intensity       Hue   \\\n",
       "class                                  -0.499130          0.265668 -0.617369   \n",
       "Alcohol                                 0.136698          0.546364 -0.071747   \n",
       "Malic acid                             -0.207111          0.128887 -0.361964   \n",
       "Ash                                     0.009652          0.258887 -0.074667   \n",
       "Alcalinity of ash                      -0.197327          0.018732 -0.273955   \n",
       "Magnesium                               0.236441          0.199950  0.055398   \n",
       "Total phenols                           0.612413         -0.055136  0.433681   \n",
       "Flavanoids                              0.652692         -0.172379  0.543479   \n",
       "Nonflavanoid phenols                   -0.365845          0.139057 -0.262640   \n",
       " Proanthocyanins                        1.000000         -0.025250  0.295544   \n",
       "Color intensity                        -0.025250          1.000000 -0.521813   \n",
       "Hue                                     0.295544         -0.521813  1.000000   \n",
       "OD280/OD315 of diluted wines            0.519067         -0.428815  0.565468   \n",
       "Proline                                 0.330417          0.316100  0.236183   \n",
       "Proline_log                             0.290203          0.348970  0.173593   \n",
       "\n",
       "                               OD280/OD315 of diluted wines   Proline   \\\n",
       "class                                              -0.788230 -0.633717   \n",
       "Alcohol                                             0.072343  0.643720   \n",
       "Malic acid                                         -0.369285 -0.215564   \n",
       "Ash                                                 0.003911  0.223626   \n",
       "Alcalinity of ash                                  -0.276769 -0.440597   \n",
       "Magnesium                                           0.066004  0.393351   \n",
       "Total phenols                                       0.699949  0.498115   \n",
       "Flavanoids                                          0.787194  0.494193   \n",
       "Nonflavanoid phenols                               -0.503270 -0.311385   \n",
       " Proanthocyanins                                    0.519067  0.330417   \n",
       "Color intensity                                    -0.428815  0.316100   \n",
       "Hue                                                 0.565468  0.236183   \n",
       "OD280/OD315 of diluted wines                        1.000000  0.312761   \n",
       "Proline                                             0.312761  1.000000   \n",
       "Proline_log                                         0.254218  0.977423   \n",
       "\n",
       "                               Proline_log  \n",
       "class                            -0.569246  \n",
       "Alcohol                           0.637325  \n",
       "Malic acid                       -0.185750  \n",
       "Ash                               0.238394  \n",
       "Alcalinity of ash                -0.416897  \n",
       "Magnesium                         0.424006  \n",
       "Total phenols                     0.431205  \n",
       "Flavanoids                        0.410494  \n",
       "Nonflavanoid phenols             -0.275675  \n",
       " Proanthocyanins                  0.290203  \n",
       "Color intensity                   0.348970  \n",
       "Hue                               0.173593  \n",
       "OD280/OD315 of diluted wines      0.254218  \n",
       "Proline                           0.977423  \n",
       "Proline_log                       1.000000  "
      ]
     },
     "execution_count": 62,
     "metadata": {},
     "output_type": "execute_result"
    }
   ],
   "source": [
    "wine.corr()"
   ]
  },
  {
   "cell_type": "code",
   "execution_count": null,
   "metadata": {},
   "outputs": [],
   "source": [
    "# Take a minute to find the column where the correlation value is greater than 0.75 at least twice\n",
    "to_drop = wine.iloc[:,7]\n",
    "\n",
    "# Drop that column from the DataFrame\n",
    "wine = wine.drop(to_drop, axis =1)"
   ]
  },
  {
   "cell_type": "markdown",
   "metadata": {},
   "source": [
    "### Using PCA\n",
    "    - Let's apply PCA to the wine dataset, to see if we can get an increase in our model's accuracy."
   ]
  },
  {
   "cell_type": "code",
   "execution_count": 64,
   "metadata": {},
   "outputs": [
    {
     "data": {
      "text/plain": [
       "Index(['class', 'Alcohol', 'Malic acid', 'Ash ', 'Alcalinity of ash ',\n",
       "       'Magnesium ', 'Total phenols ', 'Flavanoids ', 'Nonflavanoid phenols ',\n",
       "       ' Proanthocyanins ', 'Color intensity ', 'Hue ',\n",
       "       'OD280/OD315 of diluted wines ', 'Proline ', 'Proline_log'],\n",
       "      dtype='object')"
      ]
     },
     "execution_count": 64,
     "metadata": {},
     "output_type": "execute_result"
    }
   ],
   "source": [
    "wine.columns"
   ]
  },
  {
   "cell_type": "code",
   "execution_count": 65,
   "metadata": {},
   "outputs": [
    {
     "data": {
      "text/plain": [
       "(178, 15)"
      ]
     },
     "execution_count": 65,
     "metadata": {},
     "output_type": "execute_result"
    }
   ],
   "source": [
    "wine.shape"
   ]
  },
  {
   "cell_type": "code",
   "execution_count": 66,
   "metadata": {},
   "outputs": [
    {
     "name": "stdout",
     "output_type": "stream",
     "text": [
      "[9.98091443e-01 1.73592378e-03 9.52828466e-05 4.93378214e-05\n",
      " 1.27114442e-05 8.16492196e-06 2.96792109e-06 1.54610090e-06\n",
      " 1.12688922e-06 7.24400971e-07 3.84939654e-07 2.44953007e-07\n",
      " 8.24003718e-08 5.88440562e-08]\n"
     ]
    }
   ],
   "source": [
    "from sklearn.decomposition import PCA\n",
    "\n",
    "# Set up PCA and the X vector for diminsionality reduction\n",
    "pca = PCA()\n",
    "wine_X = wine.drop(\"class\", axis=1)\n",
    "\n",
    "# Apply PCA to the wine dataset X vector\n",
    "transformed_X = pca.fit_transform(wine_X)\n",
    "\n",
    "# Look at the percentage of variance explained by the different components\n",
    "print(pca.explained_variance_ratio_)"
   ]
  },
  {
   "cell_type": "markdown",
   "metadata": {},
   "source": [
    "### Training a model with PCA\n",
    "Now that we have run PCA on the wine dataset, let's try training a model with it."
   ]
  },
  {
   "cell_type": "code",
   "execution_count": 80,
   "metadata": {},
   "outputs": [
    {
     "data": {
      "text/plain": [
       "0.6888888888888889"
      ]
     },
     "execution_count": 80,
     "metadata": {},
     "output_type": "execute_result"
    }
   ],
   "source": [
    "y = wine['class']\n",
    "# Split the transformed X and the y labels into training and test sets\n",
    "X_wine_train, X_wine_test, y_wine_train, y_wine_test = train_test_split(transformed_X,y)\n",
    "\n",
    "# Fit knn to the training data\n",
    "from sklearn.neighbors import KNeighborsClassifier\n",
    "knn = KNeighborsClassifier()\n",
    "knn.fit(X_wine_train,y_wine_train)\n",
    "\n",
    "# Score knn on the test data and print it out\n",
    "knn.score(X_wine_test,y_wine_test)"
   ]
  },
  {
   "cell_type": "code",
   "execution_count": null,
   "metadata": {},
   "outputs": [],
   "source": []
  }
 ],
 "metadata": {
  "kernelspec": {
   "display_name": "Python 3",
   "language": "python",
   "name": "python3"
  },
  "language_info": {
   "codemirror_mode": {
    "name": "ipython",
    "version": 3
   },
   "file_extension": ".py",
   "mimetype": "text/x-python",
   "name": "python",
   "nbconvert_exporter": "python",
   "pygments_lexer": "ipython3",
   "version": "3.6.5"
  }
 },
 "nbformat": 4,
 "nbformat_minor": 2
}
